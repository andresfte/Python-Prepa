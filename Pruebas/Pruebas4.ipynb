{
 "cells": [
  {
   "cell_type": "code",
   "execution_count": 5,
   "metadata": {},
   "outputs": [
    {
     "name": "stdout",
     "output_type": "stream",
     "text": [
      "[[0, 1, 2], [0, 1, 2], [0, 1, 2], [0, 1, 2]]\n",
      "{1, 3}\n",
      "{2: 4, 4: 16, 6: 36}\n"
     ]
    }
   ],
   "source": [
    "m = [[j for j in range(3)] for i in range(4)]\n",
    "l = {s for s in range(1,5) if s % 2}\n",
    "o = {x: x**2 for x in (2, 4, 6)}\n",
    "print(m)\n",
    "print(l)\n",
    "print(o)"
   ]
  },
  {
   "cell_type": "code",
   "execution_count": 3,
   "metadata": {},
   "outputs": [
    {
     "name": "stdout",
     "output_type": "stream",
     "text": [
      "[0, 1, 2, 0, 1, 2, 0, 1, 2, 0, 1, 2]\n"
     ]
    }
   ],
   "source": [
    "z = [value for sublist in m for value in sublist]\n",
    "print(z)"
   ]
  },
  {
   "cell_type": "code",
   "execution_count": 8,
   "metadata": {},
   "outputs": [
    {
     "name": "stdout",
     "output_type": "stream",
     "text": [
      "Alice\n",
      "23\n",
      "NL\n",
      "name Alice\n",
      "age 23\n",
      "country NL\n",
      "['name: Alice', 'age: 23', 'country: NL']\n"
     ]
    }
   ],
   "source": [
    "d = {'name': 'Alice', 'age': 23, 'country': 'NL' }\n",
    "for k in d.values():\n",
    "    print(k)\n",
    "\n",
    "for k,v in d.items():\n",
    "    print(k, v)\n",
    "\n",
    "lista = [f'{k}: {v}' for k, v in d.items()]\n",
    "print(lista)"
   ]
  },
  {
   "cell_type": "code",
   "execution_count": 11,
   "metadata": {},
   "outputs": [
    {
     "name": "stdout",
     "output_type": "stream",
     "text": [
      "2\n",
      "4\n",
      "6\n",
      "8\n"
     ]
    }
   ],
   "source": [
    "# se pueden crear un iterador propio\n",
    "class EvenNumbers:\n",
    "    last = 0\n",
    "    def __iter__(self):\n",
    "        return self\n",
    "    def __next__(self):\n",
    "        self.last += 2\n",
    "        if self.last > 8:\n",
    "            raise StopIteration\n",
    "        return self.last\n",
    "\n",
    "even_numbers = EvenNumbers()\n",
    "for num in even_numbers:\n",
    "    print(num)"
   ]
  },
  {
   "cell_type": "code",
   "execution_count": 43,
   "metadata": {},
   "outputs": [
    {
     "name": "stdout",
     "output_type": "stream",
     "text": [
      "prueba Info\n",
      "Mi nombre es: Carlosta , mi edad es: 29 , mi sexo es: femenino\n",
      "Mi nombre es: Julieta , mi edad es: 32 , mi sexo es: femenino\n",
      "Mi nombre es: Carlos , mi edad es: 25 , mi sexo es: masculino\n",
      "Mi nombre es: Julieta , mi edad es: 32 , mi sexo es: femenino Mi telefono es: 1234 mi direccion: cr 45\n",
      "Carlos\n",
      "25\n",
      "masculino\n",
      "['Carlos', 25, 'masculino']\n"
     ]
    }
   ],
   "source": [
    "class Inicio:\n",
    "    def __init__(self, nombre, edad, sexo):\n",
    "        self.nombre = nombre\n",
    "        self.edad = edad\n",
    "        self.sexo = sexo\n",
    "\n",
    "    def informacion(self):\n",
    "        return print(\"Mi nombre es:\", self.nombre, \", mi edad es:\", self.edad, \", mi sexo es:\", self.sexo) \n",
    "\n",
    "class Info(Inicio):\n",
    "    def prueba(self):\n",
    "        return print(\"prueba\", type(self).__name__)             # type(self).__name__ muetra el nombre de la class\n",
    "\n",
    "class Datos(Inicio):\n",
    "    def __init__(self, nombre, edad, sexo, tel, dir):\n",
    "        super().__init__(nombre, edad, sexo)                # con SUPER se llama desde el padres y las hereda el hijo para agragar otros argumentos\n",
    "        self.tel = tel\n",
    "        self.dir = dir\n",
    "        \n",
    "    def datos(self):\n",
    "        return print(\"Mi nombre es:\", self.nombre, \", mi edad es:\", self.edad, \", mi sexo es:\", self.sexo, \"Mi telefono es:\", self.tel, \"mi direccion:\", self.dir) \n",
    "    \n",
    "\n",
    "cliente_1 = Inicio(\"Carlos\", 25, \"masculino\")\n",
    "cliente_2 = Datos(\"Julieta\", 32, \"femenino\", 1234, \"cr 45\")\n",
    "cliente_3 = Info(\"Carlosta\", 29, \"femenino\")\n",
    "cliente_3.prueba()\n",
    "cliente_3.informacion()\n",
    "cliente_2.informacion()\n",
    "cliente_1.informacion()\n",
    "cliente_2.datos()\n",
    "\n",
    "print(cliente_1.nombre)\n",
    "print(cliente_1.edad)\n",
    "print(cliente_1.sexo)\n",
    "cliente = [cliente_1.nombre, cliente_1.edad, cliente_1.sexo]\n",
    "print(cliente)\n",
    "\n",
    "\n"
   ]
  },
  {
   "cell_type": "code",
   "execution_count": null,
   "metadata": {},
   "outputs": [],
   "source": [
    "import math             # libreria math\n",
    "print(math.factorial(5))\n",
    "\n",
    "print(math.pow(5,2))\n",
    "\n",
    "print(math.pi)\n",
    "dir(math)"
   ]
  },
  {
   "cell_type": "code",
   "execution_count": 52,
   "metadata": {},
   "outputs": [],
   "source": [
    "class Vehiculo:\n",
    "    def __init__(self, color, tipo, cilindrada):\n",
    "        self.color = color\n",
    "        self.tipo = tipo\n",
    "        self.cilindrada = cilindrada\n",
    "        self.velocidad = 0\n",
    "        self.girar = 0\n",
    "\n",
    "    def acelerar(self, vel):\n",
    "        self.velocidad += vel \n",
    "        print(\"Acelerar\", self.tipo, \"a:\", self.velocidad)\n",
    "    \n",
    "    def frenar(self, vel):\n",
    "        self.velocidad -= vel \n",
    "        print(\"Frenar\", self.tipo, \"a:\", self.velocidad)\n",
    "           \n",
    "    def doblar(self, giro):\n",
    "        self.girar = giro\n",
    "        print(\"Girar\", self.tipo, \"a:\", self.girar)"
   ]
  },
  {
   "cell_type": "code",
   "execution_count": 55,
   "metadata": {},
   "outputs": [
    {
     "name": "stdout",
     "output_type": "stream",
     "text": [
      "Acelerar Moto a: 30\n",
      "Frenar Moto a: 10\n",
      "Girar Moto a: -20\n"
     ]
    }
   ],
   "source": [
    "moto_1 = Vehiculo(\"rojo\", \"Moto\", 150) \n",
    "moto_1.acelerar(30)\n",
    "moto_1.frenar(20)\n",
    "moto_1.doblar(-20)"
   ]
  },
  {
   "cell_type": "code",
   "execution_count": 2,
   "metadata": {},
   "outputs": [
    {
     "name": "stdout",
     "output_type": "stream",
     "text": [
      "True\n",
      "El numero 2 se repite 5 veces, y es el que mas se repite\n"
     ]
    }
   ],
   "source": [
    "class Varios:\n",
    "    def __init__(self):\n",
    "        pass\n",
    "\n",
    "    def ver_primo(self, numero):\n",
    "        for n in range(2, numero):\n",
    "            if numero % n == 0:\n",
    "                break\n",
    "        \n",
    "        return True\n",
    "\n",
    "    def valor_modal(self, listado):\n",
    "        num_rep = []\n",
    "        mayor = []\n",
    "        for num in range(0, 10):\n",
    "            count_num = listado.count(num)\n",
    "            num_rep.insert(num, count_num)\n",
    "\n",
    "        num_mayor = num_rep[0]\n",
    "        for num in range(1, 10):\n",
    "            if num_rep[num] > num_mayor:\n",
    "                num_mayor = num_rep[num]\n",
    "                mayor.append((num, num_mayor))\n",
    "                continue\n",
    "        mayor_t = mayor.pop()\n",
    "        return mayor_t\n",
    "        \n",
    "\n",
    "prueba = Varios()\n",
    "print(prueba.ver_primo(5))\n",
    "lista = [1, 2, 3, 4, 5, 1, 3, 5, 6, 7, 2, 4, 6, 8, 1, 3, 4, 6, 2, 3, 5, 7, 8, 1, 3, 2, 2, 4, 6, 7]\n",
    "x, y = prueba.valor_modal(lista)\n",
    "print(f\"El numero {x} se repite {y} veces, y es el que mas se repite\")\n"
   ]
  },
  {
   "cell_type": "code",
   "execution_count": 58,
   "metadata": {},
   "outputs": [
    {
     "name": "stdout",
     "output_type": "stream",
     "text": [
      "Lista de numeros =  [2, 4, 5, 8, 9, 11, 14, 15, 17, 18, 21, 23, 25, 27, 28, 29, 31, 32, 33, 36, 37, 41, 43, 46, 47, 49, 51, 52, 53, 59]\n",
      "Lista de numeros primos = [2, 5, 11, 17, 23, 29, 31, 37, 41, 43, 47, 53, 59]\n"
     ]
    }
   ],
   "source": [
    "lista = [2, 4, 5, 8, 9, 11, 14, 15, 17, 18, 21, 23, 25, 27, 28, 29, 31, 32, 33, 36, 37, 41, 43, 46, 47, 49, 51, 52, 53, 59]\n",
    "lista_primos = []\n",
    "\n",
    "def num_primo(num):\n",
    "    for n in range(2, num):\n",
    "        if num % n == 0:\n",
    "            return False\n",
    "        \n",
    "    return True\n",
    "\n",
    "def lis_primos(valor):\n",
    "    for num in valor:\n",
    "        primo = num_primo(num)\n",
    "        if primo == True:\n",
    "            lista_primos.append(num)\n",
    "            \n",
    "        \n",
    "lis_primos(lista)\n",
    "print(\"Lista de numeros = \", lista)\n",
    "print(\"Lista de numeros primos =\", lista_primos)"
   ]
  },
  {
   "cell_type": "code",
   "execution_count": 13,
   "metadata": {},
   "outputs": [
    {
     "name": "stdout",
     "output_type": "stream",
     "text": [
      "temperatura a convertir = 100\n",
      "Unidad inicial = ° f\n",
      "Unidad a convertir = ° f\n",
      "¡La unidad de origen y conversion es la misma!\n"
     ]
    }
   ],
   "source": [
    "temp = int(input(\"Introducir Temperatura f=\"))\n",
    "unidad_inicio = str(input(\"Unidad origen, 'Centigrados' = C, 'Kelvin' = K, 'Farenheit= 'F\"))\n",
    "unidad_conv = str(input(\"Unidad a convertir, 'Centigrados' = C, 'Kelvin' = K, 'Farenheit= 'F\"))\n",
    "print(\"temperatura a convertir =\", temp)\n",
    "print(\"Unidad inicial = °\", unidad_inicio)\n",
    "print(\"Unidad a convertir = °\", unidad_conv)\n",
    "    \n",
    "if unidad_inicio == \"c\" and unidad_conv == \"k\":\n",
    "    temp_k = temp + 273.15\n",
    "    print(f\"{temp}°C es equivalente a {temp_k}°K\")\n",
    "elif unidad_inicio == \"c\" and unidad_conv == \"c\":\n",
    "    print(\"¡La unidad de origen y conversion es la misma!\")\n",
    "elif unidad_inicio == \"c\" and unidad_conv == \"f\":\n",
    "    temp_f = (temp*(9/5)) + 32\n",
    "    print(f\"{temp}°C es equivalente a {temp_f}°F\")\n",
    "elif unidad_inicio == \"k\" and unidad_conv == \"c\":\n",
    "    temp_c = temp - 273.15\n",
    "    print(f\"{temp}°K es equivalente a {temp_c}°C\")\n",
    "elif unidad_inicio == \"k\" and unidad_conv == \"f\":\n",
    "    temp_c = temp - 273.15\n",
    "    temp_f = (temp_c*(9/5)) + 32\n",
    "    print(f\"{temp}°K es equivalente a {temp_f}°F\")\n",
    "elif unidad_inicio == \"k\" and unidad_conv == \"k\":\n",
    "    print(\"¡La unidad de origen y conversion es la misma!\")\n",
    "elif unidad_inicio == \"f\" and unidad_conv == \"c\":\n",
    "    temp_c = (5/9)*(temp - 32)\n",
    "    print(f\"{temp}°F es equivalente a {temp_c}°C\")\n",
    "elif unidad_inicio == \"f\" and unidad_conv == \"k\":\n",
    "    temp_c = (5/9)*(temp - 32)\n",
    "    temp_k = temp_c + 273.15\n",
    "    print(f\"{temp}°F es equivalente a {temp_k}°K\")\n",
    "elif unidad_inicio == \"f\" and unidad_conv == \"f\":\n",
    "    print(\"¡La unidad de origen y conversion es la misma!\")\n",
    "else:\n",
    "    print(\"!Estan equivocados los valores introducidos¡\")\n"
   ]
  }
 ],
 "metadata": {
  "kernelspec": {
   "display_name": "Python 3",
   "language": "python",
   "name": "python3"
  },
  "language_info": {
   "codemirror_mode": {
    "name": "ipython",
    "version": 3
   },
   "file_extension": ".py",
   "mimetype": "text/x-python",
   "name": "python",
   "nbconvert_exporter": "python",
   "pygments_lexer": "ipython3",
   "version": "3.11.5"
  },
  "orig_nbformat": 4
 },
 "nbformat": 4,
 "nbformat_minor": 2
}
