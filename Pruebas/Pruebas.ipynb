{
 "cells": [
  {
   "cell_type": "code",
   "execution_count": 1,
   "metadata": {},
   "outputs": [
    {
     "name": "stdout",
     "output_type": "stream",
     "text": [
      "['torres', 'baena'] 3\n",
      "['torres', 'baena'] [1]\n",
      "[1, 2, 3, 4, 5, 'vale', ['torres', 'baena'], 7]\n",
      "[1, 2, 3, 4, 5, 'vale', ['torres', 'baena'], 7, 8, 9, 10]\n",
      "[8, 9, 10, 11, 12, 13]\n",
      "[11, 12, 13]\n",
      "[1, 3, 4, 5, 'vale', ['torres', 'baena']]\n",
      "[1, 3, 4, 5, 'vale']\n",
      "[1, 3, 5, 'vale']\n",
      "[1, 3, 5, 'vale', 1, 2, 3, 4, 5]\n",
      "[]\n",
      "[1, 2, 3, 4, 5, 'vale']\n"
     ]
    }
   ],
   "source": [
    "#listas o LIST []\n",
    "my_list = [1, 2, 3, 4, 5, \"vale\", [\"torres\", \"baena\"] ]\n",
    "print(my_list[-1], my_list[2])\n",
    "print(my_list [6], [1])\n",
    "my_list.append(7)\n",
    "print(my_list)\n",
    "l1 = [8, 9, 10]\n",
    "l2 = my_list + l1\n",
    "print(l2)\n",
    "l3 = [11, 12, 13]\n",
    "l1.extend(l3)                   # .extend agrega la lista l3 a la lista l1\n",
    "print(l1)\n",
    "print(l3)\n",
    "my_list.pop()                   # .pop retira el ultimo valor de la lista\n",
    "my_list.pop(1)                  # .pop() retira elvalor indexado de la lista\n",
    "print(my_list)\n",
    "del(my_list[5])\n",
    "print(my_list)\n",
    "my_list.remove(4)\n",
    "l4 =[1, 2, 3, 4, 5]\n",
    "print(my_list)\n",
    "my_list.extend(l4)\n",
    "print(my_list)\n",
    "l1.clear()\n",
    "print(l1)\n",
    "my_list = list(set(my_list))            #se eliminan objetos repetidos, los conjuntos no contienen elementos repetidos\n",
    "print(my_list)"
   ]
  },
  {
   "cell_type": "code",
   "execution_count": 17,
   "metadata": {},
   "outputs": [
    {
     "name": "stdout",
     "output_type": "stream",
     "text": [
      "((1, 2), 3, 4, 5, 6)\n"
     ]
    },
    {
     "data": {
      "text/plain": [
       "'Hello'"
      ]
     },
     "execution_count": 17,
     "metadata": {},
     "output_type": "execute_result"
    }
   ],
   "source": [
    "#tuplas o TUPLE ()\n",
    "my_numbers = (1, 2, 3)\n",
    "the_same = 1, 2, 3\n",
    "my_strings = ('Hello', 'World')\n",
    "my_mixed_tuple = ('Hello', 123, True)\n",
    "l1 = [(1, 2), 3]\n",
    "l2 = [4, 5, 6]\n",
    "t = (*l1, *l2)\n",
    "print(t)\n",
    "# * descomprime la tupla en elementos individuales\n",
    "# t = (1, 2, 3, 4, 5, 6)\n",
    "my_mixed_tuple = 'Hello', 123, True\n",
    "my_mixed_tuple[0] \n",
    "#'Hello' # se indeza individualmente el objeto en la tupla\n"
   ]
  },
  {
   "cell_type": "code",
   "execution_count": null,
   "metadata": {},
   "outputs": [],
   "source": [
    "#conjuntos o SET {}\n",
    "names = { \"Eric\", \"Ali\", \"John\" }\n",
    "# Mixed types are allowed\n",
    "mixed_set = { 'a', 1, (1, 2) }\n",
    "my_set = set()          #crea un conjunto vacio\n",
    "my_set.add(1)\n",
    "my_set.add('Erik')\n",
    "my_set = set()\n",
    "my_set.update(range(3))         #agregar objetos\n",
    "my_set.update(['a', 'b'])\n",
    "print(my_set)\n",
    "# {0, 1, 2, 'b', 'a'}\n",
    "print( set([1, 2, 3]) )\n",
    "# {1, 2, 3}                     #convierte en conjuntos\n",
    "print( set(range(3)) )\n",
    "# {0, 1, 2}\n",
    "my_set = { x for x in 'Hi, my name is...' if x not in '., ' }\n",
    "print(my_set)\n",
    "# {'n', 'a', 'e', 'i', 's', 'y', 'H', 'm'}      # conjunto por compresion y se eliminan el , y . y los espacios, no se repiten objetos\n",
    "A = { 1, 2, 3, 4, 5 }\n",
    "B = { 3, 4, 5, 6, 7 }\n",
    "print(A-B)                      #matematicas de conjuntos\n",
    "#  {1, 2}\n",
    "# And the reverse\n",
    "print(B-A)\n",
    "# {6, 7}\n",
    "A = { 1, 2, 3, 4, 5 }\n",
    "B = { 3, 4, 5, 6, 7 }\n",
    "print(A^B)                      # ^ operador diferencia simetrica, elementos unicos de A y de B, a + B menos interseccion de A y B\n",
    "#  {1, 2, 6, 7}\n",
    "A = { 1, 2, 3, 4, 5 }\n",
    "B = { 3, 4, 5, 6, 7 }\n",
    "print(A & B)                    # & operador de interseccion \n",
    "# {3, 4, 5}\n",
    "A = { 1, 2, 3 }\n",
    "B = { 1, 2, 3, 4, 5 }\n",
    "C = { 1, 2, 3, 10 }\n",
    "# is A a subset of B\n",
    "print(A < B)                    # < operador de subconjunto\n",
    "# True\n",
    "# is C a subset of B? \n",
    "print(C < B)\n",
    "# False\n",
    "# No, it has a 10 that's not in B\n",
    "# Is B a superset of A?\n",
    "print(B > A)                    # > operador de superconjunto\n",
    "# True\n",
    "# B is not a superset of C since C has a 10 in it\n",
    "print(B > C)\n",
    "# False\n",
    "print(A < A)\n",
    "# False\n",
    "print(A <= A)\n",
    "# True\n",
    "print(A >= A)\n",
    "# True\n",
    "A = { 1, 2, 3 }\n",
    "B = { 3, 4, 5 }\n",
    "print(A|B)                  # | operador de union\n",
    "#  {1, 2, 3, 4, 5}\n"
   ]
  },
  {
   "cell_type": "code",
   "execution_count": 83,
   "metadata": {},
   "outputs": [
    {
     "data": {
      "text/plain": [
       "{'Eric': None, 'Martha': None, 'Ellen': None}"
      ]
     },
     "execution_count": 83,
     "metadata": {},
     "output_type": "execute_result"
    }
   ],
   "source": [
    "#Diccionarios o DICTIONARY\n",
    "phone_numbers = { 'Jack': '070-02222748', 'Pete': '010-2488634' }\n",
    "phone_numbers['Jack']\n",
    "#'070-02222748'  \n",
    "phone_numbers['Eric'] = '06-10101010'           # agraga un objeto al diccionario\n",
    "del(phone_numbers['Jack'])                      # elimina un objeto del diccionario\n",
    "phone_numbers\n",
    "#{'Pete': '010-2488634', 'Eric': '06-10101010'}\n",
    "dict([ ('Jack', '070-02222748'), ('Pete', '010-2488634'), ('Eric', '06-10101010') ])            # dict() crea un diccionario\n",
    "#{'Jack': '070-02222748', 'Pete': '010-2488634', 'Eric': '06-10101010'}\n",
    "{x: x**2 for x in (2, 4, 6)}                    # compresion de diccionario, crea un diccionario\n",
    "#{2: 4, 4: 16, 6: 36}\n",
    "names = ['Eric', 'Martha', 'Ellen']\n",
    "phone_numbers = dict.fromkeys(names, None)          # dict.fromkeys( , ) crea un diccionarioa a partir de una lista\n",
    "phone_numbers\n",
    "#{'Ellen': None, 'Eric': None, 'Martha': None}"
   ]
  },
  {
   "cell_type": "code",
   "execution_count": 12,
   "metadata": {},
   "outputs": [
    {
     "name": "stdout",
     "output_type": "stream",
     "text": [
      "dict_keys(['Jack', 'Pete', 'Eric', 'Linda'])\n",
      "dict_values(['070-02222748', '010-2488634', '06-10101010', '030-987612312'])\n",
      "070-02222748 , 12\n",
      "010-2488634 , 11\n",
      "06-10101010 , 11\n",
      "030-987612312 , 13\n",
      "Jack , 4\n",
      "Pete , 4\n",
      "Eric , 4\n",
      "Linda , 5\n",
      "['Jack', 'Pete', 'Eric', 'Linda']\n",
      "0 : Jack\n",
      "1 : Pete\n",
      "2 : Eric\n",
      "3 : Linda\n",
      "0 Jack\n",
      "1 Pete\n",
      "2 Eric\n",
      "3 Linda\n",
      "dict_items([('Jack', '070-02222748'), ('Pete', '010-2488634'), ('Eric', '06-10101010'), ('Linda', '030-987612312')])\n",
      "Jack : 070-02222748\n",
      "Pete : 010-2488634\n",
      "Eric : 06-10101010\n",
      "Linda : 030-987612312\n"
     ]
    }
   ],
   "source": [
    "#diccionarios, con items se optiene el valor de las keys o value\n",
    "phone_numbers = { 'Jack': '070-02222748', 'Pete': '010-2488634', 'Eric': '06-10101010' }\n",
    "names = phone_numbers.keys()\n",
    "numbers = phone_numbers.values()\n",
    "phone_numbers['Linda'] = '030-987612312'\n",
    "print(names)\n",
    "print(numbers)\n",
    "\n",
    "# Loop through a view object with:\n",
    "for number in numbers:\n",
    "    print(number, \",\", len(number))\n",
    "\n",
    "for nombre in names:\n",
    "    print(nombre, \",\", len(nombre))    \n",
    "    \n",
    "names = list(names)\n",
    "print(names)\n",
    "\n",
    "for i in range(len(names)):\n",
    "    print(i, \":\", names[i])\n",
    "\n",
    "for i, v in enumerate(names):\n",
    "    print(i, v)\n",
    "\n",
    "print(phone_numbers.items())\n",
    "\n",
    "for name, phonenr in phone_numbers.items():\n",
    "    print(name, \":\", phonenr)\n",
    "\n"
   ]
  },
  {
   "cell_type": "code",
   "execution_count": 13,
   "metadata": {},
   "outputs": [
    {
     "name": "stdout",
     "output_type": "stream",
     "text": [
      "{'andres': 'active', 'lucia': 'inactive', 'andrea': 'active', 'soraida': 'inactive'}\n",
      "{'andres': 'active', 'andrea': 'active'}\n",
      "{'lucia': 'inactive', 'soraida': 'inactive'}\n",
      "{'andres', 'soraida', 'andrea', 'lucia'}\n"
     ]
    }
   ],
   "source": [
    "contacto_users = {\"andres\": \"active\", \"lucia\": \"inactive\", \"andrea\": \"active\", \"soraida\": \"inactive\"}\n",
    "print(contacto_users)\n",
    "active_users = {}\n",
    "inactive_users = {}\n",
    "\n",
    "for user, status in contacto_users.items():\n",
    "    if status == \"active\":\n",
    "        active_users[user] = status\n",
    "\n",
    "print(active_users)\n",
    "\n",
    "for user, status in contacto_users.items():\n",
    "    if status == \"inactive\":\n",
    "        inactive_users[user] = status\n",
    "\n",
    "print(inactive_users)\n",
    "\n",
    "prueba_expandir = {*contacto_users}\n",
    "print(prueba_expandir)"
   ]
  },
  {
   "cell_type": "code",
   "execution_count": 84,
   "metadata": {},
   "outputs": [
    {
     "name": "stdout",
     "output_type": "stream",
     "text": [
      "{'sape': 4139, 'guido': 4127, 'jack': 4098}\n"
     ]
    }
   ],
   "source": [
    "#convertir a diccionarios\n",
    "nombres = dict(sape=4139, guido=4127, jack=4098)\n",
    "#{'sape': 4139, 'guido': 4127, 'jack': 4098}\n",
    "print(nombres)"
   ]
  },
  {
   "cell_type": "code",
   "execution_count": 8,
   "metadata": {},
   "outputs": [
    {
     "name": "stdout",
     "output_type": "stream",
     "text": [
      "2\n",
      "3\n",
      "n= 3, x= 2\n",
      "4\n",
      "n= 4, x= 2\n",
      "n= 4, x= 3\n",
      "5\n",
      "n= 5, x= 2\n",
      "n= 5, x= 3\n",
      "n= 5, x= 4\n",
      "6\n",
      "n= 6, x= 2\n",
      "n= 6, x= 3\n",
      "n= 6, x= 4\n",
      "n= 6, x= 5\n",
      "7\n",
      "n= 7, x= 2\n",
      "n= 7, x= 3\n",
      "n= 7, x= 4\n",
      "n= 7, x= 5\n",
      "n= 7, x= 6\n"
     ]
    }
   ],
   "source": [
    "# rangos, RANGE\n",
    "for n in range(2, 8):\n",
    "    print(n)\n",
    "    for x in range(2, n):\n",
    "        print(f\"n= {n}, x= {x}\")"
   ]
  },
  {
   "cell_type": "code",
   "execution_count": 4,
   "metadata": {},
   "outputs": [
    {
     "data": {
      "text/plain": [
       "'Bad request'"
      ]
     },
     "execution_count": 4,
     "metadata": {},
     "output_type": "execute_result"
    }
   ],
   "source": [
    "# MATCH\n",
    "def http_error(status):\n",
    "    match status:\n",
    "        case 400:\n",
    "            return \"Bad request\"\n",
    "        case 404:\n",
    "            return \"Not found\"\n",
    "        case 418:\n",
    "            return \"I'm a teapot\"\n",
    "        case 401 | 403 | 405:\n",
    "            return \"Not allowed\"\n",
    "        case _:    \n",
    "            return \"Something's wrong with the internet\"\n",
    "        \n",
    "status = int(input(\"entrar error\"))\n",
    "http_error(status)\n"
   ]
  },
  {
   "cell_type": "code",
   "execution_count": 3,
   "metadata": {},
   "outputs": [
    {
     "name": "stdout",
     "output_type": "stream",
     "text": [
      "X=1, Y=2\n"
     ]
    }
   ],
   "source": [
    "x = int(input(\"introducir x\"))\n",
    "y = int(input(\"introducir y\"))\n",
    "point = (x, y)\n",
    "\n",
    "match point:\n",
    "    case (0, 0):\n",
    "        print(\"Origin\")\n",
    "    case (0, y):\n",
    "        print(f\"Y={y}\")\n",
    "    case (x, 0):\n",
    "        print(f\"X={x}\")\n",
    "    case (x, y):\n",
    "        print(f\"X={x}, Y={y}\")\n",
    "    case _:\n",
    "        raise ValueError(\"Not a point\")"
   ]
  },
  {
   "cell_type": "code",
   "execution_count": 2,
   "metadata": {},
   "outputs": [
    {
     "name": "stdout",
     "output_type": "stream",
     "text": [
      "I'm feeling the blues :(\n"
     ]
    }
   ],
   "source": [
    "from enum import Enum\n",
    "class Color(Enum):\n",
    "    RED = 'red'\n",
    "    GREEN = 'green'\n",
    "    BLUE = 'blue'\n",
    "\n",
    "color = Color(input(\"Enter your choice of 'red', 'blue' or 'green': \"))\n",
    "\n",
    "match color:\n",
    "    case Color.RED:\n",
    "        print(\"I see red!\")\n",
    "    case Color.GREEN:\n",
    "        print(\"Grass is green\")\n",
    "    case Color.BLUE:\n",
    "        print(\"I'm feeling the blues :(\")"
   ]
  },
  {
   "cell_type": "code",
   "execution_count": 2,
   "metadata": {},
   "outputs": [
    {
     "data": {
      "text/plain": [
       "True"
      ]
     },
     "execution_count": 2,
     "metadata": {},
     "output_type": "execute_result"
    }
   ],
   "source": [
    "def ask_ok(prompt, retries=4, reminder='Please try again!'):\n",
    "    while True:\n",
    "        ok = input(prompt)\n",
    "        if ok in ('y', 'ye', 'yes'):\n",
    "            return True\n",
    "        if ok in ('n', 'no', 'nop', 'nope'):\n",
    "            return False\n",
    "        retries = retries - 1\n",
    "        if retries < 0:\n",
    "            raise ValueError('invalid user response')\n",
    "        print(reminder)\n",
    "\n",
    "ask_ok(\"estan entendiendo\", 3)\n"
   ]
  },
  {
   "cell_type": "code",
   "execution_count": 44,
   "metadata": {},
   "outputs": [
    {
     "name": "stdout",
     "output_type": "stream",
     "text": [
      "venus/jupiter/tierra\n"
     ]
    }
   ],
   "source": [
    "def write_multiple_items(*args, separator, file):\n",
    "    file = (separator.join(args))\n",
    "    print(file)\n",
    "\n",
    "write_multiple_items(\"venus\", \"jupiter\", \"tierra\", separator = \"/\", file = \"planetas\")\n",
    "\n"
   ]
  },
  {
   "cell_type": "code",
   "execution_count": 14,
   "metadata": {},
   "outputs": [
    {
     "name": "stdout",
     "output_type": "stream",
     "text": [
      "[(1, 3), (1, 4), (2, 3), (2, 1), (2, 4), (3, 1), (3, 4)]\n",
      "[(1, 3), (1, 4), (2, 3), (2, 1), (2, 4), (3, 1), (3, 4)]\n",
      "[0, 1, 4, 9, 16, 25, 36, 49, 64, 81]\n",
      "[0, 4, 16, 36, 64]\n",
      "[(0, 0), (1, 1), (2, 4), (3, 9), (4, 16), (5, 25)]\n"
     ]
    }
   ],
   "source": [
    "combs = [(x, y) for x in [1,2,3] for y in [3,1,4] if x != y]\n",
    "print(combs)\n",
    "# casos equivalentes\n",
    "combs1 = []\n",
    "for x in [1,2,3]:\n",
    "    for y in [3,1,4]:\n",
    "        if x != y:\n",
    "            combs1.append((x, y))\n",
    "\n",
    "print(combs1)\n",
    "\n",
    "squares = list(map(lambda x: x**2, range(10)))\n",
    "print(squares)\n",
    "# expresion equivalente\n",
    "squares1 = [x**2 for x in range(0,10, 2)]                 # range(a, b, c) a, inicio, b fin, c step\n",
    "print(squares1)\n",
    "\n",
    "# create a list of 2-tuples like (number, square)\n",
    "list_square = [(x, x**2) for x in range(6)]\n",
    "print(list_square)"
   ]
  },
  {
   "cell_type": "code",
   "execution_count": 26,
   "metadata": {},
   "outputs": [
    {
     "name": "stdout",
     "output_type": "stream",
     "text": [
      "vec1= [(1, 4, 7), (2, 5, 8), (3, 6, 9)]\n",
      "[[1, 2, 3], [4, 5, 6], [7, 8, 9]]\n",
      "vec2= [1, 2, 3, 4, 5, 6, 7, 8, 9]\n",
      "[1, 2, 3] , [4, 5, 6] , [7, 8, 9]\n",
      "[1, 2, 3]\n",
      "L_t = [1, 2, 3, 4, 5, 6, 7, 8, 9]\n",
      "l1 = [1, 2, 3, 4, 5, 6, 7, 8, 9]\n",
      "0 hola\n",
      "1 quiero\n",
      "2 puedo\n",
      "mi nombre es andres y mi telefono es 1234.\n",
      "mi nombre es claudia y mi telefono es 5678.\n",
      "mi nombre es horacio y mi telefono es 98765.\n",
      "9\n",
      "7\n",
      "5\n",
      "3\n",
      "1\n"
     ]
    }
   ],
   "source": [
    "vec = [[1,2,3], [4,5,6], [7,8,9]]\n",
    "vec1 = list(zip(*vec))\n",
    "print(\"vec1=\", vec1)\n",
    "print(vec)\n",
    "vec2 = [num for elem in vec for num in elem]\n",
    "print(\"vec2=\",vec2)\n",
    "l1, l2, l3 = vec\n",
    "print(l1, \",\", l2, \",\", l3)\n",
    "print(l1)\n",
    "L_t = l1 + l2 + l3\n",
    "print(\"L_t =\", L_t)\n",
    "l1.extend(l2)\n",
    "l1.extend(l3)\n",
    "print(\"l1 =\", l1)\n",
    "\n",
    "\n",
    "def iterar():\n",
    "    for i, v in enumerate([\"hola\", \"quiero\", \"puedo\"]):\n",
    "        print(i, v)\n",
    "\n",
    "iterar()\n",
    "\n",
    "nombres_p = [\"andres\", \"claudia\", \"horacio\"]\n",
    "telefonos_p = [\"1234\", \"5678\", \"98765\"]\n",
    "\n",
    "for n, t in zip(nombres_p, telefonos_p):            #empaqueta con zip 2 tuplas en una\n",
    "    print(\"mi nombre es {0} y mi telefono es {1}.\" .format(n, t))\n",
    "\n",
    "for i in reversed(range(1, 10, 2)):             # se itera al reves\n",
    "    print(i)\n"
   ]
  }
 ],
 "metadata": {
  "kernelspec": {
   "display_name": "Python 3",
   "language": "python",
   "name": "python3"
  },
  "language_info": {
   "codemirror_mode": {
    "name": "ipython",
    "version": 3
   },
   "file_extension": ".py",
   "mimetype": "text/x-python",
   "name": "python",
   "nbconvert_exporter": "python",
   "pygments_lexer": "ipython3",
   "version": "3.11.5"
  },
  "orig_nbformat": 4
 },
 "nbformat": 4,
 "nbformat_minor": 2
}
