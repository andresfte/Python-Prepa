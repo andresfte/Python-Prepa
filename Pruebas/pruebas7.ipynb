{
 "cells": [
  {
   "cell_type": "code",
   "execution_count": 1,
   "metadata": {},
   "outputs": [
    {
     "name": "stdout",
     "output_type": "stream",
     "text": [
      "hola\n",
      "espero que esta vez si\n"
     ]
    }
   ],
   "source": [
    "print(\"hola\")\n",
    "print(\"espero que esta vez si\")"
   ]
  },
  {
   "cell_type": "code",
   "execution_count": 2,
   "metadata": {},
   "outputs": [],
   "source": [
    "from bs4 import BeautifulSoup\n",
    "import urllib.request"
   ]
  },
  {
   "cell_type": "code",
   "execution_count": null,
   "metadata": {},
   "outputs": [],
   "source": [
    "response = urllib.request.urlopen('https://es.wikipedia.org/wiki/Python')\n",
    "html = response.read()"
   ]
  },
  {
   "cell_type": "code",
   "execution_count": null,
   "metadata": {},
   "outputs": [],
   "source": [
    "soup = BeautifulSoup(html, \"html.parser\")\n",
    "text = soup.get_text()"
   ]
  },
  {
   "cell_type": "code",
   "execution_count": 33,
   "metadata": {},
   "outputs": [
    {
     "name": "stdout",
     "output_type": "stream",
     "text": [
      "2023-10-17 12:49:53.676033\n",
      "1697564993\n",
      "fecha hora = 2023-10-17 12:49:53\n"
     ]
    }
   ],
   "source": [
    "import datetime\n",
    "fecha_tiempo = datetime.datetime.now()\n",
    "print(fecha_tiempo)\n",
    "marca_tiempo = (int(datetime.datetime.timestamp(fecha_tiempo)))\n",
    "print(marca_tiempo)\n",
    "fecha_hora2 = datetime.datetime.fromtimestamp(marca_tiempo)\n",
    "print(\"fecha hora =\", fecha_hora2)"
   ]
  },
  {
   "cell_type": "code",
   "execution_count": 27,
   "metadata": {},
   "outputs": [],
   "source": [
    "import os\n",
    "\n",
    "montañas = {'nombre':[  'Everest','K2','Kanchenjunga','Lhotse','Makalu',\n",
    "                        'Cho Oyu','Dhaulagiri','Manaslu','Nanga Parbat','Annapurna I'],\n",
    "            'orden':[1,2,3,4,5,6,7,8,9,10],\n",
    "            'cordillera':['Himalaya','Karakorum','Himalaya','Himalaya','Himalaya'\n",
    "                        ,'Himalaya','Himalaya','Himalaya','Karakorum','Himalaya'],\n",
    "            'pais': ['Nepal','Pakistan','Nepal','Nepal','Nepal','Nepal','Nepal','Nepal',\n",
    "                    'Pakistan','Nepal'],\n",
    "            'altura':[8849,8611,8586,8516,8485,8188,8167,8163,8125,8091]}\n",
    "\n",
    "archivo = open(\"clase09_ej3.csv\", \"w\")\n",
    "\n",
    "for clave in montañas.keys():\n",
    "    if clave == \"altura\":\n",
    "        archivo.write(clave + \"\\n\")\n",
    "    else:\n",
    "        archivo.write(clave + \",\")\n",
    "\n",
    "for x in range(10):\n",
    "    archivo.write(montañas[\"nombre\"][x] + \",\")\n",
    "    archivo.write(str(montañas[\"orden\"][x]) + \",\")\n",
    "    archivo.write(montañas[\"cordillera\"][x] + \",\")\n",
    "    archivo.write(montañas[\"pais\"][x] + \",\")\n",
    "    archivo.write(str(montañas[\"altura\"][x]) + \"\\n\")\n",
    "\n",
    "archivo.close()\n",
    "\n"
   ]
  },
  {
   "cell_type": "code",
   "execution_count": 28,
   "metadata": {},
   "outputs": [
    {
     "name": "stdout",
     "output_type": "stream",
     "text": [
      "366\n"
     ]
    }
   ],
   "source": [
    "print(os.path.getsize(\"clase09_ej3.csv\")) "
   ]
  },
  {
   "cell_type": "code",
   "execution_count": 29,
   "metadata": {},
   "outputs": [],
   "source": [
    "os.mkdir('clase09_montañas_altas')           # crea una carpeta"
   ]
  },
  {
   "cell_type": "code",
   "execution_count": 30,
   "metadata": {},
   "outputs": [
    {
     "data": {
      "text/plain": [
       "0"
      ]
     },
     "execution_count": 30,
     "metadata": {},
     "output_type": "execute_result"
    }
   ],
   "source": [
    "os.system(\"copy clase09_ej3.csv clase09_montañas_altas\")"
   ]
  },
  {
   "cell_type": "code",
   "execution_count": 32,
   "metadata": {},
   "outputs": [
    {
     "data": {
      "text/plain": [
       "['clase09_ej3.csv']"
      ]
     },
     "execution_count": 32,
     "metadata": {},
     "output_type": "execute_result"
    }
   ],
   "source": [
    "os.listdir(\"./clase09_montañas_altas\")"
   ]
  }
 ],
 "metadata": {
  "kernelspec": {
   "display_name": "Python 3",
   "language": "python",
   "name": "python3"
  },
  "language_info": {
   "codemirror_mode": {
    "name": "ipython",
    "version": 3
   },
   "file_extension": ".py",
   "mimetype": "text/x-python",
   "name": "python",
   "nbconvert_exporter": "python",
   "pygments_lexer": "ipython3",
   "version": "3.12.0"
  }
 },
 "nbformat": 4,
 "nbformat_minor": 2
}
