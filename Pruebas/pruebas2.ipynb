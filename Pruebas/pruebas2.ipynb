{
 "cells": [
  {
   "cell_type": "code",
   "execution_count": 16,
   "metadata": {},
   "outputs": [
    {
     "name": "stdout",
     "output_type": "stream",
     "text": [
      "a es igual a b\n"
     ]
    }
   ],
   "source": [
    "a = int(input(\"numero positivo\"))\n",
    "b = int(input(\"numero positivo\"))\n",
    "if a > b:                               # se ejecuta la sentencia secuencialmente y para hasta que la primerta condicion sea verdadera\n",
    "    print(\"a es mayor que b\")           # si ninguna lo es pasa a else\n",
    "elif a < b:\n",
    "    print(\"a es menor que b\")\n",
    "else: #a == b:                          # se podira tambien un elif a == b:\n",
    "    print(\"a es igual a b\")\n",
    "\n"
   ]
  },
  {
   "cell_type": "code",
   "execution_count": 4,
   "metadata": {},
   "outputs": [
    {
     "name": "stdout",
     "output_type": "stream",
     "text": [
      "[0, 1, 2, 3, 4, 5]\n"
     ]
    }
   ],
   "source": [
    "c = int(input(\"cantidad a sumar de a 1\"))\n",
    "salida = [n for n in range(c)]\n",
    "print(salida)\n"
   ]
  },
  {
   "cell_type": "code",
   "execution_count": 3,
   "metadata": {},
   "outputs": [
    {
     "name": "stdout",
     "output_type": "stream",
     "text": [
      "0 1\n",
      "1 2\n",
      "2 3\n",
      "3 4\n",
      "4 5\n",
      "0\n",
      "2\n",
      "2\n",
      "4\n",
      "4\n",
      "6\n"
     ]
    }
   ],
   "source": [
    "c = int(input(\"cantidad a sumar de a 1\"))\n",
    "for i in range(c):\n",
    "    suma = i + 1\n",
    "    print (i, suma)\n",
    "\n",
    "x = 0\n",
    "while x < c:\n",
    "    print(x)\n",
    "    x += 2\n",
    "    print(x)"
   ]
  },
  {
   "cell_type": "code",
   "execution_count": 2,
   "metadata": {},
   "outputs": [
    {
     "name": "stdout",
     "output_type": "stream",
     "text": [
      "a\n",
      "n\n",
      "d\n",
      "r\n",
      "e\n",
      "s\n",
      " \n",
      "Se encontro f\n"
     ]
    }
   ],
   "source": [
    "# uso de break, qu termina el ciclo de for o while\n",
    "nombre = input(\"cual es su nombre\")\n",
    "for letra in nombre:\n",
    "    if letra == \"f\":\n",
    "        print(\"Se encontro f\")\n",
    "        break\n",
    "    print(letra)\n",
    "\n",
    "if letra != \"f\":    \n",
    "    print(\"no contiene la letra 'f'\")"
   ]
  },
  {
   "cell_type": "code",
   "execution_count": 48,
   "metadata": {},
   "outputs": [
    {
     "name": "stdout",
     "output_type": "stream",
     "text": [
      "a\n",
      "n\n",
      "d\n",
      "r\n",
      "e\n",
      "s\n",
      " \n",
      "Se encontro f\n",
      "e\n",
      "l\n",
      "i\n",
      "p\n",
      "e\n"
     ]
    }
   ],
   "source": [
    "# continue, este no permite terminar el codigo siguiente y continua con la siguiente iteracion del bucle\n",
    "nombre = input(\"cual es su nombre\")\n",
    "for letra in nombre:\n",
    "    if letra == \"f\":\n",
    "        print(\"Se encontro f\")\n",
    "        continue\n",
    "    print(letra)"
   ]
  },
  {
   "cell_type": "code",
   "execution_count": 8,
   "metadata": {},
   "outputs": [
    {
     "name": "stdout",
     "output_type": "stream",
     "text": [
      "['name0', 'name1', 'name2', 'name3', 'name4', 'name5', 'name6', 'name7', 'name8', 'name9']\n"
     ]
    }
   ],
   "source": [
    "nombres = [(\"name\" + str(x)) for x in range(10)]\n",
    "print(nombres)"
   ]
  }
 ],
 "metadata": {
  "kernelspec": {
   "display_name": "Python 3",
   "language": "python",
   "name": "python3"
  },
  "language_info": {
   "codemirror_mode": {
    "name": "ipython",
    "version": 3
   },
   "file_extension": ".py",
   "mimetype": "text/x-python",
   "name": "python",
   "nbconvert_exporter": "python",
   "pygments_lexer": "ipython3",
   "version": "3.11.5"
  },
  "orig_nbformat": 4
 },
 "nbformat": 4,
 "nbformat_minor": 2
}
