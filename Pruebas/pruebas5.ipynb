{
 "cells": [
  {
   "cell_type": "code",
   "execution_count": 7,
   "metadata": {},
   "outputs": [
    {
     "name": "stdout",
     "output_type": "stream",
     "text": [
      "No se puede dividor por 0\n"
     ]
    }
   ],
   "source": [
    "try:\n",
    "    print(20/0)\n",
    "except ZeroDivisionError:\n",
    "    print(\"No se puede dividor por 0\")\n"
   ]
  },
  {
   "cell_type": "code",
   "execution_count": 8,
   "metadata": {},
   "outputs": [
    {
     "ename": "ZeroDivisionError",
     "evalue": "division by zero",
     "output_type": "error",
     "traceback": [
      "\u001b[1;31m---------------------------------------------------------------------------\u001b[0m",
      "\u001b[1;31mZeroDivisionError\u001b[0m                         Traceback (most recent call last)",
      "\u001b[1;32md:\\Python\\Curso henry\\Python-Prep-main\\Pruebas\\pruebas5.ipynb Cell 2\u001b[0m line \u001b[0;36m1\n\u001b[1;32m----> <a href='vscode-notebook-cell:/d%3A/Python/Curso%20henry/Python-Prep-main/Pruebas/pruebas5.ipynb#W3sZmlsZQ%3D%3D?line=0'>1</a>\u001b[0m \u001b[39mprint\u001b[39m(\u001b[39m20\u001b[39;49m\u001b[39m/\u001b[39;49m\u001b[39m0\u001b[39;49m)\n",
      "\u001b[1;31mZeroDivisionError\u001b[0m: division by zero"
     ]
    }
   ],
   "source": [
    "print(20/0)"
   ]
  },
  {
   "cell_type": "code",
   "execution_count": 9,
   "metadata": {},
   "outputs": [
    {
     "name": "stdout",
     "output_type": "stream",
     "text": [
      "An error occurred: [Errno 2] No such file or directory: 'not_here.txt'\n"
     ]
    }
   ],
   "source": [
    "try:\n",
    "    # Open file in read-only mode\n",
    "    with open(\"not_here.txt\", 'r') as f:\n",
    "        f.write(\"Hello World!\")\n",
    "except IOError as e:\n",
    "    print(\"An error occurred:\", e)"
   ]
  },
  {
   "cell_type": "code",
   "execution_count": 10,
   "metadata": {},
   "outputs": [
    {
     "ename": "FileNotFoundError",
     "evalue": "[Errno 2] No such file or directory: 'not_here.txt'",
     "output_type": "error",
     "traceback": [
      "\u001b[1;31m---------------------------------------------------------------------------\u001b[0m",
      "\u001b[1;31mFileNotFoundError\u001b[0m                         Traceback (most recent call last)",
      "\u001b[1;32md:\\Python\\Curso henry\\Python-Prep-main\\Pruebas\\pruebas5.ipynb Cell 4\u001b[0m line \u001b[0;36m1\n\u001b[1;32m----> <a href='vscode-notebook-cell:/d%3A/Python/Curso%20henry/Python-Prep-main/Pruebas/pruebas5.ipynb#W5sZmlsZQ%3D%3D?line=0'>1</a>\u001b[0m \u001b[39mwith\u001b[39;00m \u001b[39mopen\u001b[39;49m(\u001b[39m\"\u001b[39;49m\u001b[39mnot_here.txt\u001b[39;49m\u001b[39m\"\u001b[39;49m, \u001b[39m'\u001b[39;49m\u001b[39mr\u001b[39;49m\u001b[39m'\u001b[39;49m) \u001b[39mas\u001b[39;00m f:\n\u001b[0;32m      <a href='vscode-notebook-cell:/d%3A/Python/Curso%20henry/Python-Prep-main/Pruebas/pruebas5.ipynb#W5sZmlsZQ%3D%3D?line=1'>2</a>\u001b[0m     f\u001b[39m.\u001b[39mwrite(\u001b[39m\"\u001b[39m\u001b[39mHello World!\u001b[39m\u001b[39m\"\u001b[39m)\n",
      "File \u001b[1;32m~\\AppData\\Roaming\\Python\\Python311\\site-packages\\IPython\\core\\interactiveshell.py:286\u001b[0m, in \u001b[0;36m_modified_open\u001b[1;34m(file, *args, **kwargs)\u001b[0m\n\u001b[0;32m    279\u001b[0m \u001b[39mif\u001b[39;00m file \u001b[39min\u001b[39;00m {\u001b[39m0\u001b[39m, \u001b[39m1\u001b[39m, \u001b[39m2\u001b[39m}:\n\u001b[0;32m    280\u001b[0m     \u001b[39mraise\u001b[39;00m \u001b[39mValueError\u001b[39;00m(\n\u001b[0;32m    281\u001b[0m         \u001b[39mf\u001b[39m\u001b[39m\"\u001b[39m\u001b[39mIPython won\u001b[39m\u001b[39m'\u001b[39m\u001b[39mt let you open fd=\u001b[39m\u001b[39m{\u001b[39;00mfile\u001b[39m}\u001b[39;00m\u001b[39m by default \u001b[39m\u001b[39m\"\u001b[39m\n\u001b[0;32m    282\u001b[0m         \u001b[39m\"\u001b[39m\u001b[39mas it is likely to crash IPython. If you know what you are doing, \u001b[39m\u001b[39m\"\u001b[39m\n\u001b[0;32m    283\u001b[0m         \u001b[39m\"\u001b[39m\u001b[39myou can use builtins\u001b[39m\u001b[39m'\u001b[39m\u001b[39m open.\u001b[39m\u001b[39m\"\u001b[39m\n\u001b[0;32m    284\u001b[0m     )\n\u001b[1;32m--> 286\u001b[0m \u001b[39mreturn\u001b[39;00m io_open(file, \u001b[39m*\u001b[39;49margs, \u001b[39m*\u001b[39;49m\u001b[39m*\u001b[39;49mkwargs)\n",
      "\u001b[1;31mFileNotFoundError\u001b[0m: [Errno 2] No such file or directory: 'not_here.txt'"
     ]
    }
   ],
   "source": [
    "with open(\"not_here.txt\", 'r') as f:\n",
    "    f.write(\"Hello World!\")"
   ]
  },
  {
   "cell_type": "code",
   "execution_count": 3,
   "metadata": {},
   "outputs": [
    {
     "name": "stdout",
     "output_type": "stream",
     "text": [
      "An error occurred: [Errno 2] No such file or directory: 'myfile.txt'\n",
      "Closing the file now\n",
      "El archivo no existe\n"
     ]
    }
   ],
   "source": [
    "\"\"\" Este est unas prueba de las excepciones\n",
    "    try --> excep\n",
    "    finally se ejecuta con o sin excepxion\n",
    "\"\"\"\n",
    "try:\n",
    "    # Open a file in write-mode\n",
    "    f = open(\"myfile.txt\", 'r')\n",
    "    f.write(\"Hello World!\")\n",
    "except IOError as e:\n",
    "    print(\"An error occurred:\", e)\n",
    "finally:                                    # este bloque se ejecuta halla o no halla exepcion, para forzar algo en el programa, \n",
    "    try:                                    #cerrar un archivo o una red sin importar lo que suceda\n",
    "        print(\"Closing the file now\")\n",
    "        f.close()\n",
    "    except NameError:\n",
    "        print(\"El archivo no existe\")\n",
    "    \n",
    "   \n"
   ]
  },
  {
   "cell_type": "code",
   "execution_count": 16,
   "metadata": {},
   "outputs": [
    {
     "name": "stdout",
     "output_type": "stream",
     "text": [
      "La clave no existe en el diccionario\n"
     ]
    }
   ],
   "source": [
    "try:\n",
    "    a = {\"a\" : 2, \"b\" : 3}\n",
    "    print(a[\"c\"])\n",
    "except KeyError:\n",
    "    print(\"La clave no existe en el diccionario\")"
   ]
  },
  {
   "cell_type": "code",
   "execution_count": 14,
   "metadata": {},
   "outputs": [
    {
     "ename": "SyntaxError",
     "evalue": "'(' was never closed (1065058415.py, line 3)",
     "output_type": "error",
     "traceback": [
      "\u001b[1;36m  Cell \u001b[1;32mIn[14], line 3\u001b[1;36m\u001b[0m\n\u001b[1;33m    print(\"prueba\"\u001b[0m\n\u001b[1;37m         ^\u001b[0m\n\u001b[1;31mSyntaxError\u001b[0m\u001b[1;31m:\u001b[0m '(' was never closed\n"
     ]
    }
   ],
   "source": [
    "try: \n",
    "    #print(2/0)\n",
    "    print(\"prueba\"\n",
    "except Exception:\n",
    "    print(\"Error de syntaxis\")"
   ]
  },
  {
   "cell_type": "code",
   "execution_count": 1,
   "metadata": {},
   "outputs": [
    {
     "name": "stdout",
     "output_type": "stream",
     "text": [
      "Try and stop me\n",
      "Try and stop me\n",
      "Try and stop me\n",
      "Don't stop me now, I'm having such a good time!\n",
      "Try and stop me\n",
      "Try and stop me\n",
      "Try and stop me\n",
      "Try and stop me\n",
      "Try and stop me\n",
      "Try and stop me\n",
      "Try and stop me\n",
      "Try and stop me\n",
      "Try and stop me\n",
      "Try and stop me\n",
      "Try and stop me\n",
      "Try and stop me\n",
      "Try and stop me\n"
     ]
    }
   ],
   "source": [
    "# captura abolutamente todas las excepciones, no deja cerrar el programa ni interrumpirlo\n",
    "\n",
    "from time import sleep\n",
    "while True:\n",
    "    try:\n",
    "        print(\"Try and stop me\")\n",
    "        sleep(1)\n",
    "    except:\n",
    "        print(\"Don't stop me now, I'm having such a good time!\")"
   ]
  },
  {
   "cell_type": "code",
   "execution_count": 1,
   "metadata": {},
   "outputs": [
    {
     "name": "stdout",
     "output_type": "stream",
     "text": [
      "Try and stop me\n",
      "Try and stop me\n"
     ]
    },
    {
     "ename": "KeyboardInterrupt",
     "evalue": "",
     "output_type": "error",
     "traceback": [
      "\u001b[1;31m---------------------------------------------------------------------------\u001b[0m",
      "\u001b[1;31mKeyboardInterrupt\u001b[0m                         Traceback (most recent call last)",
      "\u001b[1;32md:\\Python\\Curso henry\\Python-Prep-main\\Pruebas\\pruebas5.ipynb Cell 9\u001b[0m line \u001b[0;36m7\n\u001b[0;32m      <a href='vscode-notebook-cell:/d%3A/Python/Curso%20henry/Python-Prep-main/Pruebas/pruebas5.ipynb#X11sZmlsZQ%3D%3D?line=4'>5</a>\u001b[0m \u001b[39mtry\u001b[39;00m:\n\u001b[0;32m      <a href='vscode-notebook-cell:/d%3A/Python/Curso%20henry/Python-Prep-main/Pruebas/pruebas5.ipynb#X11sZmlsZQ%3D%3D?line=5'>6</a>\u001b[0m     \u001b[39mprint\u001b[39m(\u001b[39m\"\u001b[39m\u001b[39mTry and stop me\u001b[39m\u001b[39m\"\u001b[39m)\n\u001b[1;32m----> <a href='vscode-notebook-cell:/d%3A/Python/Curso%20henry/Python-Prep-main/Pruebas/pruebas5.ipynb#X11sZmlsZQ%3D%3D?line=6'>7</a>\u001b[0m     sleep(\u001b[39m1\u001b[39;49m)\n\u001b[0;32m      <a href='vscode-notebook-cell:/d%3A/Python/Curso%20henry/Python-Prep-main/Pruebas/pruebas5.ipynb#X11sZmlsZQ%3D%3D?line=7'>8</a>\u001b[0m \u001b[39mexcept\u001b[39;00m \u001b[39mException\u001b[39;00m \u001b[39mas\u001b[39;00m e:\n\u001b[0;32m      <a href='vscode-notebook-cell:/d%3A/Python/Curso%20henry/Python-Prep-main/Pruebas/pruebas5.ipynb#X11sZmlsZQ%3D%3D?line=8'>9</a>\u001b[0m     \u001b[39mprint\u001b[39m(\u001b[39m\"\u001b[39m\u001b[39mSomething went wrong\u001b[39m\u001b[39m\"\u001b[39m, e)\n",
      "\u001b[1;31mKeyboardInterrupt\u001b[0m: "
     ]
    }
   ],
   "source": [
    "# con esta exception captura casi todas las excepciones, interrupcion del teclado y salida del sistema\n",
    "# You will still catch almost all exceptions, but the program will exit on system exceptions like KeyboardInterrupt and SystemExit:\n",
    "from time import sleep          \n",
    "while True:\n",
    "    try:\n",
    "        print(\"Try and stop me\")\n",
    "        sleep(1)\n",
    "    except Exception as e:\n",
    "        print(\"Something went wrong\", e)"
   ]
  },
  {
   "cell_type": "code",
   "execution_count": null,
   "metadata": {},
   "outputs": [],
   "source": [
    "# esta es la manera de crear un exception personalizada, se genera una sub-class y con \"raise\" se genera la excepcion\n",
    "\n",
    "class UserNotFoundError(Exception):\n",
    "    pass\n",
    "def fetch_user(user_id):\n",
    "    # Here you would fetch from some kind of db, e.g.:\n",
    "    # user = db.get_user(user_id)\n",
    "    # To make this example runnable, let's set it to None\n",
    "    user = None\n",
    "    if user == None:\n",
    "        raise UserNotFoundError(f'User {user_id} not in database')\n",
    "    else:\n",
    "        return user\n",
    "users = [123, 456, 789]\n",
    "for user_id in users:\n",
    "    try:\n",
    "        fetch_user(user_id)\n",
    "    except UserNotFoundError as e:\n",
    "        print(\"There was an error: \", e)"
   ]
  },
  {
   "cell_type": "code",
   "execution_count": 29,
   "metadata": {},
   "outputs": [
    {
     "name": "stdout",
     "output_type": "stream",
     "text": [
      "3 1\n",
      "1 4\n",
      "23 45\n",
      "5 14\n",
      "(1, 2, 3, 4)\n",
      "1 2 3 4\n"
     ]
    }
   ],
   "source": [
    "# con * se obliga a nombrar las variables cuando se ejecuta, sin el * simpemente se ponen los valores\n",
    "def f(*, a, b):\n",
    "    print(a, b)\n",
    "\n",
    "f(b =1, a = 3)\n",
    "\n",
    "def g(c, d):\n",
    "    print(c, d)\n",
    "\n",
    "mi_dic = {\"c\" : 1, \"d\" : 4}             # con ** descomprime los valores del diccionario\n",
    "g(**mi_dic)\n",
    "\n",
    "l = [23, 45]\n",
    "\n",
    "g(*l)                                   # con * descomprime la lista y alimenta la funcion\n",
    "\n",
    "g(5, 14)\n",
    "\n",
    "e = (1, 2, 3, 4,)\n",
    "print(e)\n",
    "print(*e)               #con * descomprime la tupla\n",
    "    "
   ]
  },
  {
   "cell_type": "code",
   "execution_count": 36,
   "metadata": {},
   "outputs": [
    {
     "name": "stdout",
     "output_type": "stream",
     "text": [
      "Argument for sumar_uno is 4\n",
      "5\n"
     ]
    }
   ],
   "source": [
    "def print_argument(func):\n",
    "    def wrapper(the_number):\n",
    "        print(\"Argument for\", func.__name__, \"is\", the_number)\n",
    "        return func(the_number)\n",
    "    return wrapper\n",
    "\n",
    "x = int(input(\"Introduzca numero =\"))\n",
    "\n",
    "@print_argument         # con @ encadena la funcion, con la que esta debajo\n",
    "def sumar_uno(x):\n",
    "    return x + 1\n",
    "\n",
    "print(sumar_uno(x))"
   ]
  },
  {
   "cell_type": "code",
   "execution_count": 40,
   "metadata": {},
   "outputs": [
    {
     "name": "stdout",
     "output_type": "stream",
     "text": [
      "11\n",
      "[1, 4, 9, 16, 25]\n"
     ]
    }
   ],
   "source": [
    "# con lambda se crea una funcion anonima\n",
    "prueba = lambda x: x + 1\n",
    "print(prueba(10))\n",
    "\n",
    "# con maps(), se hace una operacion o funcion a cada uno de los elementos de un objeto iterable\n",
    "lista = [1, 2, 3, 4, 5]\n",
    "mul_lista = list(map(lambda X: X**2, lista))\n",
    "print(mul_lista)"
   ]
  },
  {
   "cell_type": "code",
   "execution_count": 4,
   "metadata": {},
   "outputs": [
    {
     "ename": "AssertionError",
     "evalue": "No se permiten str vacíos",
     "output_type": "error",
     "traceback": [
      "\u001b[1;31m---------------------------------------------------------------------------\u001b[0m",
      "\u001b[1;31mAssertionError\u001b[0m                            Traceback (most recent call last)",
      "\u001b[1;32md:\\Python\\Curso henry\\Python-Prep-main\\Pruebas\\pruebas5.ipynb Cell 14\u001b[0m line \u001b[0;36m1\n\u001b[0;32m      <a href='vscode-notebook-cell:/d%3A/Python/Curso%20henry/Python-Prep-main/Pruebas/pruebas5.ipynb#X16sZmlsZQ%3D%3D?line=7'>8</a>\u001b[0m     \u001b[39mreturn\u001b[39;00m primeras_letras\n\u001b[0;32m     <a href='vscode-notebook-cell:/d%3A/Python/Curso%20henry/Python-Prep-main/Pruebas/pruebas5.ipynb#X16sZmlsZQ%3D%3D?line=9'>10</a>\u001b[0m lista \u001b[39m=\u001b[39m [\u001b[39m\"\u001b[39m\u001b[39mayer\u001b[39m\u001b[39m\"\u001b[39m, \u001b[39m\"\u001b[39m\u001b[39mHoy\u001b[39m\u001b[39m\"\u001b[39m, \u001b[39m\"\u001b[39m\u001b[39mMañana\u001b[39m\u001b[39m\"\u001b[39m, \u001b[39m\"\u001b[39m\u001b[39mCreer\u001b[39m\u001b[39m\"\u001b[39m, \u001b[39m\"\u001b[39m\u001b[39m\"\u001b[39m]\n\u001b[1;32m---> <a href='vscode-notebook-cell:/d%3A/Python/Curso%20henry/Python-Prep-main/Pruebas/pruebas5.ipynb#X16sZmlsZQ%3D%3D?line=10'>11</a>\u001b[0m \u001b[39mprint\u001b[39m(primera_letra(lista))\n",
      "\u001b[1;32md:\\Python\\Curso henry\\Python-Prep-main\\Pruebas\\pruebas5.ipynb Cell 14\u001b[0m line \u001b[0;36m6\n\u001b[0;32m      <a href='vscode-notebook-cell:/d%3A/Python/Curso%20henry/Python-Prep-main/Pruebas/pruebas5.ipynb#X16sZmlsZQ%3D%3D?line=3'>4</a>\u001b[0m \u001b[39mfor\u001b[39;00m palabra \u001b[39min\u001b[39;00m lista_de_palabras:\n\u001b[0;32m      <a href='vscode-notebook-cell:/d%3A/Python/Curso%20henry/Python-Prep-main/Pruebas/pruebas5.ipynb#X16sZmlsZQ%3D%3D?line=4'>5</a>\u001b[0m     \u001b[39massert\u001b[39;00m \u001b[39mtype\u001b[39m(palabra) \u001b[39m==\u001b[39m \u001b[39mstr\u001b[39m, \u001b[39mf\u001b[39m\u001b[39m'\u001b[39m\u001b[39m{\u001b[39;00mpalabra\u001b[39m}\u001b[39;00m\u001b[39m no es str\u001b[39m\u001b[39m'\u001b[39m\n\u001b[1;32m----> <a href='vscode-notebook-cell:/d%3A/Python/Curso%20henry/Python-Prep-main/Pruebas/pruebas5.ipynb#X16sZmlsZQ%3D%3D?line=5'>6</a>\u001b[0m     \u001b[39massert\u001b[39;00m \u001b[39mlen\u001b[39m(palabra) \u001b[39m>\u001b[39m \u001b[39m0\u001b[39m, \u001b[39m'\u001b[39m\u001b[39mNo se permiten str vacíos\u001b[39m\u001b[39m'\u001b[39m\n\u001b[0;32m      <a href='vscode-notebook-cell:/d%3A/Python/Curso%20henry/Python-Prep-main/Pruebas/pruebas5.ipynb#X16sZmlsZQ%3D%3D?line=6'>7</a>\u001b[0m     primeras_letras\u001b[39m.\u001b[39mappend(palabra[\u001b[39m0\u001b[39m])\n\u001b[0;32m      <a href='vscode-notebook-cell:/d%3A/Python/Curso%20henry/Python-Prep-main/Pruebas/pruebas5.ipynb#X16sZmlsZQ%3D%3D?line=7'>8</a>\u001b[0m \u001b[39mreturn\u001b[39;00m primeras_letras\n",
      "\u001b[1;31mAssertionError\u001b[0m: No se permiten str vacíos"
     ]
    }
   ],
   "source": [
    "def primera_letra(lista_de_palabras):\n",
    "    primeras_letras = []\n",
    "\n",
    "    for palabra in lista_de_palabras:\n",
    "        assert type(palabra) == str, f'{palabra} no es str'\n",
    "        assert len(palabra) > 0, 'No se permiten str vacíos'\n",
    "        primeras_letras.append(palabra[0])\n",
    "    return primeras_letras\n",
    "\n",
    "lista = [\"ayer\", \"Hoy\", \"Mañana\", \"Creer\", \"\"]\n",
    "print(primera_letra(lista))"
   ]
  },
  {
   "cell_type": "code",
   "execution_count": 33,
   "metadata": {},
   "outputs": [
    {
     "name": "stderr",
     "output_type": "stream",
     "text": [
      "test_suma_dos_negativos (__main__.CajaNegraTest.test_suma_dos_negativos) ... ok\n",
      "test_suma_dos_positivos (__main__.CajaNegraTest.test_suma_dos_positivos) ... ok\n",
      "\n",
      "----------------------------------------------------------------------\n",
      "Ran 2 tests in 0.007s\n",
      "\n",
      "OK\n"
     ]
    },
    {
     "data": {
      "text/plain": [
       "<unittest.main.TestProgram at 0x25b20a9b250>"
      ]
     },
     "execution_count": 33,
     "metadata": {},
     "output_type": "execute_result"
    }
   ],
   "source": [
    "import unittest\n",
    "\n",
    "def suma(num_1, num_2):\n",
    "        return num_1 + num_2\n",
    "\n",
    "class CajaNegraTest(unittest.TestCase):\n",
    "\n",
    "    def test_suma_dos_positivos(self):\n",
    "        num_1 = 10\n",
    "        num_2 = 5\n",
    "\n",
    "        resultado = suma(num_1, num_2)\n",
    "\n",
    "        self.assertEqual(resultado, 15)\n",
    "\n",
    "    def test_suma_dos_negativos(self):\n",
    "        num_1 = -10\n",
    "        num_2 = -7\n",
    "\n",
    "        resultado = suma(num_1, num_2)\n",
    "\n",
    "        self.assertEqual(resultado, -17)\n",
    "\n",
    "unittest.main(argv = [\" \"], verbosity = 2, exit = False)           # verbosity = 1 menos detalles, =2 mas detalles\n"
   ]
  },
  {
   "cell_type": "code",
   "execution_count": 45,
   "metadata": {},
   "outputs": [
    {
     "name": "stderr",
     "output_type": "stream",
     "text": [
      "test_suma_dos_negativos (__main__.CajaNegraTest.test_suma_dos_negativos) ... ok\n",
      "test_suma_dos_positivos (__main__.CajaNegraTest.test_suma_dos_positivos) ... ok\n",
      "test_es_mayor_de_edad (__main__.PruebaDeCristalTest.test_es_mayor_de_edad) ... ok\n",
      "test_es_menor_de_edad (__main__.PruebaDeCristalTest.test_es_menor_de_edad) ... ok\n",
      "\n",
      "----------------------------------------------------------------------\n",
      "Ran 4 tests in 1.807s\n",
      "\n",
      "OK\n"
     ]
    }
   ],
   "source": [
    "def es_mayor_de_edad(edad):\n",
    "    if edad >= 18:\n",
    "        return True\n",
    "    else:\n",
    "        return False \n",
    "\n",
    "class PruebaDeCristalTest(unittest.TestCase):\n",
    "\n",
    "    def test_es_mayor_de_edad(self):\n",
    "        edad = int(input(\"Introduzca su edad\"))\n",
    "\n",
    "        resultado = es_mayor_de_edad(edad)\n",
    "\n",
    "        self.assertTrue(resultado)\n",
    "\n",
    "    def test_es_menor_de_edad(self):\n",
    "        edad = 15\n",
    "\n",
    "        resultado = es_mayor_de_edad(edad)\n",
    "\n",
    "        self.assertFalse(resultado)\n",
    "\n",
    "    \n",
    "    unittest.main(argv = [\" \"], verbosity = 2, exit = False)"
   ]
  },
  {
   "cell_type": "code",
   "execution_count": 49,
   "metadata": {},
   "outputs": [
    {
     "name": "stdout",
     "output_type": "stream",
     "text": [
      "[2, 6, 10, 12, 14, 16, 18]\n"
     ]
    }
   ],
   "source": [
    "def multiplica_por_dos(lista):\n",
    "    lista_multiplicada = []\n",
    "    for num in lista:\n",
    "        lista_multiplicada.append(num * 2)\n",
    "    return lista_multiplicada\n",
    "\n",
    "lista = [1, 3, 6, 7, 5, 8, 9]\n",
    "print(sorted(multiplica_por_dos(lista)))"
   ]
  },
  {
   "cell_type": "code",
   "execution_count": 51,
   "metadata": {},
   "outputs": [
    {
     "name": "stdout",
     "output_type": "stream",
     "text": [
      "division by zero\n"
     ]
    },
    {
     "data": {
      "text/plain": [
       "[1, 3, 6, 7, 5, 8, 9, 14, 58]"
      ]
     },
     "execution_count": 51,
     "metadata": {},
     "output_type": "execute_result"
    }
   ],
   "source": [
    "def divide_elementos_de_lista(lista, divisor):\n",
    "    '''\n",
    "    Cada elemento de una lista es dividida por un divisor definido.\n",
    "    En caso de error de tipo ZeroDivisionError que\n",
    "    significa error al dividir en cero\n",
    "    la función devuelve la lista inicial\n",
    "    '''\n",
    "\n",
    "    try:\n",
    "        return [i / divisor for i in lista]\n",
    "\n",
    "    except ZeroDivisionError as e:\n",
    "        print(e)\n",
    "        return lista\n",
    "\n",
    "lista = [1, 3, 6, 7, 5, 8, 9, 14, 58]\n",
    "divide_elementos_de_lista(lista, 0)"
   ]
  },
  {
   "cell_type": "code",
   "execution_count": 73,
   "metadata": {},
   "outputs": [
    {
     "name": "stdout",
     "output_type": "stream",
     "text": [
      "['erase', 'una,', 'vez', 'cuando', 'se', 'decia,', 'algo']\n"
     ]
    }
   ],
   "source": [
    "texto = \"erase una, vez cuando se decia, algo\"\n",
    "lista_m = texto.split()                  # convierte en una lista las palabras de una cadena de str\n",
    "print(lista_m)"
   ]
  },
  {
   "cell_type": "code",
   "execution_count": 59,
   "metadata": {},
   "outputs": [
    {
     "name": "stdout",
     "output_type": "stream",
     "text": [
      "[1, 9, 36, 49, 25, 64, 81, 196, 3364]\n"
     ]
    }
   ],
   "source": [
    "lista = [1, 3, 6, 7, 5, 8, 9, 14, 58]                       # con map se itera con una funcion en cada elmento de un alista o elemento iterable\n",
    "lista_d = list(map(lambda x: x**2, lista))                  # sepodria llamar una funcion o una funcion anonima lambda\n",
    "print(lista_d)"
   ]
  },
  {
   "cell_type": "code",
   "execution_count": 84,
   "metadata": {},
   "outputs": [
    {
     "name": "stdout",
     "output_type": "stream",
     "text": [
      "El valor introducido no es un numero entero, invalid literal for int() with base 10: 'j'\n"
     ]
    }
   ],
   "source": [
    "# Numero primo es divisible por 1 y el mismo numero, si es duvisible por otro numero no es primo\n",
    "def num_primo(num):\n",
    "    for n in range(2, num):\n",
    "        if num % n == 0:\n",
    "            return False\n",
    "        \n",
    "    return True\n",
    "\n",
    "try:\n",
    "    x = int(input(\"Introduce numero =\"))\n",
    "    salida = num_primo(x)\n",
    "    print(f\"El numero {x} es primo?\", salida)\n",
    "except ValueError as e:\n",
    "    print(\"El valor introducido no es un numero entero,\", e)\n",
    "\n",
    "\n",
    "\n",
    "#salida = num_primo(x)\n",
    "#print(f\"El numero {x} es primo?\", salida)"
   ]
  },
  {
   "cell_type": "code",
   "execution_count": null,
   "metadata": {},
   "outputs": [],
   "source": [
    "import importlib  #se importa el módulo importlib, el cual proporciona funciones para recargar (reload) módulos previamente importados. \n",
    "importlib.reload(nombre_archivo)  # la función reload() de importlib recargar el módulo modificado y se debe recargar"
   ]
  }
 ],
 "metadata": {
  "kernelspec": {
   "display_name": "Python 3",
   "language": "python",
   "name": "python3"
  },
  "language_info": {
   "codemirror_mode": {
    "name": "ipython",
    "version": 3
   },
   "file_extension": ".py",
   "mimetype": "text/x-python",
   "name": "python",
   "nbconvert_exporter": "python",
   "pygments_lexer": "ipython3",
   "version": "3.11.5"
  }
 },
 "nbformat": 4,
 "nbformat_minor": 2
}
