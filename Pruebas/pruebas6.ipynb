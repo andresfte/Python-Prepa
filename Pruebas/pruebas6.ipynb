{
 "cells": [
  {
   "cell_type": "code",
   "execution_count": 1,
   "metadata": {},
   "outputs": [],
   "source": [
    "import sys              # libreria para el manejo de directorios y archivos"
   ]
  },
  {
   "cell_type": "code",
   "execution_count": 6,
   "metadata": {},
   "outputs": [
    {
     "data": {
      "text/plain": [
       "'d:\\\\Python\\\\Curso henry\\\\Python-Prep-main\\\\Pruebas'"
      ]
     },
     "execution_count": 6,
     "metadata": {},
     "output_type": "execute_result"
    }
   ],
   "source": [
    "pwd                     # Muestra la ubicacion actual del archivo"
   ]
  },
  {
   "cell_type": "code",
   "execution_count": 11,
   "metadata": {},
   "outputs": [
    {
     "name": "stdout",
     "output_type": "stream",
     "text": [
      "2023-10-11 17:11:57.886645\n"
     ]
    }
   ],
   "source": [
    "import datetime\n",
    "tiempo = datetime.datetime.now()\n",
    "print(tiempo)"
   ]
  },
  {
   "cell_type": "code",
   "execution_count": 13,
   "metadata": {},
   "outputs": [
    {
     "name": "stdout",
     "output_type": "stream",
     "text": [
      "Es la prueba de la impresion Esto es una realidad y se puede imprimir 3, asi es el formato 5\n"
     ]
    }
   ],
   "source": [
    "# impresion con formato\n",
    "cadena = \"Esto es una realidad\"\n",
    "valor1 = 3\n",
    "valor2 = 5\n",
    "print(\"Es la prueba de la impresion %s y se puede imprimir %d, asi es el formato %g\" %(cadena, valor1, valor2))"
   ]
  },
  {
   "cell_type": "code",
   "execution_count": 14,
   "metadata": {},
   "outputs": [
    {
     "name": "stdout",
     "output_type": "stream",
     "text": [
      "Argument for sumar_uno is 6\n",
      "7\n"
     ]
    }
   ],
   "source": [
    "def print_argument(func):\n",
    "    def wrapper(the_number):\n",
    "        print(\"Argument for\", func.__name__, \"is\", the_number)\n",
    "        return func(the_number)\n",
    "    return wrapper\n",
    "\n",
    "x = int(input(\"Introduzca numero =\"))\n",
    "\n",
    "@print_argument         # con @ encadena la funcion, con la que esta debajo\n",
    "def sumar_uno(x):\n",
    "    return x + 1\n",
    "\n",
    "print(sumar_uno(x))"
   ]
  },
  {
   "cell_type": "code",
   "execution_count": 2,
   "metadata": {},
   "outputs": [
    {
     "name": "stdout",
     "output_type": "stream",
     "text": [
      "hola mundo asi se imprime: --ip=127.0.0.1\n",
      "nombre archivo: C:\\Users\\andre\\AppData\\Local\\Packages\\PythonSoftwareFoundation.Python.3.12_qbz5n2kfra8p0\\LocalCache\\local-packages\\Python312\\site-packages\\ipykernel_launcher.py\n"
     ]
    }
   ],
   "source": [
    "import sys\n",
    "print(f\"hola mundo asi se imprime: {sys.argv[1]}\")\n",
    "\n",
    "print(f\"nombre archivo: {sys.argv[0]}\")\n",
    "\n",
    "# por terminal se llama el archivo, se debe esar en la misma crpeta del archivo, se ejecuta el archivo y se da el argumento, argv dependiento del numero realiza una tarea"
   ]
  },
  {
   "cell_type": "code",
   "execution_count": 2,
   "metadata": {},
   "outputs": [
    {
     "name": "stdout",
     "output_type": "stream",
     "text": [
      "Hola mundo, esta es la prueba de abrir un archivo con python.\n",
      "Tambien se podrian tener datos\n",
      "\n"
     ]
    }
   ],
   "source": [
    "# con open() se abre un archivo en python\n",
    "f = open(\"text.txt\")\n",
    "print(f.read())             # read() lee en una cadena de str, para archivos pequeños\n",
    "f.close()"
   ]
  },
  {
   "cell_type": "code",
   "execution_count": 3,
   "metadata": {},
   "outputs": [
    {
     "name": "stdout",
     "output_type": "stream",
     "text": [
      "Hola mundo, esta es la prueba de abrir un archivo con python.\n",
      "Tambien se podrian tener datos\n",
      "\n"
     ]
    }
   ],
   "source": [
    "with open('text.txt') as f:                 #con whit se asegura que el archivo este abierto solamente en este statement y luego lo cierra\n",
    "    text = f.read()                         # cuando sale de este y continua el programa\n",
    "print(text)"
   ]
  },
  {
   "cell_type": "code",
   "execution_count": 10,
   "metadata": {},
   "outputs": [
    {
     "name": "stdout",
     "output_type": "stream",
     "text": [
      "12345678. Hola mundo, probando la escritura de un archivo \n",
      "\n"
     ]
    }
   ],
   "source": [
    "with open('text.txt', 'w') as f:\n",
    "    for i in range(1, 9):\n",
    "        f.write(str(i))\n",
    "    f.write(\". Hola mundo, probando la escritura de un archivo \\n\")\n",
    "with open('text.txt', 'r') as f:\n",
    "    print(f.read())"
   ]
  },
  {
   "cell_type": "code",
   "execution_count": 17,
   "metadata": {},
   "outputs": [
    {
     "name": "stdout",
     "output_type": "stream",
     "text": [
      "Number 1\n",
      "Number 2\n",
      "Number 3\n",
      "Number 4\n",
      "Number 5\n",
      "Number 6\n",
      "Number 7\n",
      "Number 8\n",
      "Hola mundo, probando la escritura de un archivo \n",
      "\n"
     ]
    }
   ],
   "source": [
    "with open('text.txt', 'w') as f:\n",
    "    for i in range(1, 9):\n",
    "        f.write(f'Number {i}\\n')                # escribe en la siguiente linea\n",
    "    f.write(\"Hola mundo, probando la escritura de un archivo \\n\")\n",
    "with open('text.txt', 'r') as f:\n",
    "    print(f.read())"
   ]
  },
  {
   "cell_type": "code",
   "execution_count": 29,
   "metadata": {},
   "outputs": [
    {
     "name": "stdout",
     "output_type": "stream",
     "text": [
      "Number 1\n",
      "Number 2\n",
      "Number 3\n",
      "Number 4\n",
      "Append number 5\n",
      "Append number 6\n",
      "Append number 7\n",
      "Append number 8\n",
      "\n"
     ]
    }
   ],
   "source": [
    "# First create a file, with a couple of lines\n",
    "with open('text.txt', 'w') as f:\n",
    "    for i in range(1, 5):\n",
    "        f.write(f'Number {i}\\n')\n",
    "# Now add some extra lines using append mode\n",
    "with open('text.txt', 'a') as f:\n",
    "    for i in range(5, 9):\n",
    "        f.write(f'Append number {i}\\n')\n",
    "with open('text.txt') as f:\n",
    "    print(f.read())"
   ]
  },
  {
   "cell_type": "code",
   "execution_count": 23,
   "metadata": {},
   "outputs": [
    {
     "name": "stdout",
     "output_type": "stream",
     "text": [
      "['Number 1\\n', 'Number 2\\n', 'Number 3\\n', 'Number 4\\n', 'Append number 5\\n', 'Append number 6\\n', 'Append number 7\\n', 'Append number 8\\n']\n"
     ]
    }
   ],
   "source": [
    "with open('text.txt') as f:\n",
    "    lines = list(f)                 # se lee linea por linea y las empaqueta en una lista\n",
    "    print(lines)"
   ]
  },
  {
   "cell_type": "code",
   "execution_count": 30,
   "metadata": {},
   "outputs": [
    {
     "name": "stdout",
     "output_type": "stream",
     "text": [
      "['Number 1\\n', 'Number 2\\n', 'Number 3\\n', 'Number 4\\n', 'Append number 5\\n', 'Append number 6\\n', 'Append number 7\\n', 'Append number 8\\n']\n"
     ]
    }
   ],
   "source": [
    "with open('text.txt') as f:\n",
    "    lines = f.readlines()               # readlines() convierte en una lista linea por linea de un archivo\n",
    "    print(lines)\n"
   ]
  },
  {
   "cell_type": "code",
   "execution_count": 32,
   "metadata": {},
   "outputs": [
    {
     "name": "stdout",
     "output_type": "stream",
     "text": [
      "Number 1\n",
      "\n",
      "Number 2\n",
      "\n",
      "Number 3\n",
      "\n",
      "Number 4\n",
      "\n",
      "Append number 5\n",
      "\n",
      "Append number 6\n",
      "\n",
      "Append number 7\n",
      "\n",
      "Append number 8\n",
      "\n"
     ]
    }
   ],
   "source": [
    "with open('text.txt', 'r') as f:\n",
    "    for line in f:                                  \n",
    "        print(line)"
   ]
  },
  {
   "cell_type": "code",
   "execution_count": 34,
   "metadata": {},
   "outputs": [
    {
     "name": "stdout",
     "output_type": "stream",
     "text": [
      "It's a file valido\n"
     ]
    }
   ],
   "source": [
    "import os\n",
    "if os.path.isfile('text.txt'):                  # con isfile se pergunta si existe el archivo\n",
    "    print(\"It's a file valido\")"
   ]
  },
  {
   "cell_type": "code",
   "execution_count": 27,
   "metadata": {},
   "outputs": [
    {
     "name": "stdout",
     "output_type": "stream",
     "text": [
      "It's a directory, existe el directorio\n",
      "<nt.ScandirIterator object at 0x000001EC5C793C10>\n"
     ]
    }
   ],
   "source": [
    "import os\n",
    "if os.path.isdir('Probar'):\n",
    "    print(\"It's a directory, existe el directorio\")\n",
    "else: \n",
    "    print(\"El directorio no existe\")\n",
    "\n",
    "print(os.scandir('Probar'))                         # es un iterador de archivos y carpetas\n"
   ]
  },
  {
   "cell_type": "code",
   "execution_count": null,
   "metadata": {},
   "outputs": [],
   "source": [
    "import os\n",
    "os.mkdir('mydir')           # crea una carpeta\n",
    "\n",
    "os.remove('myfile.txt')     # borra un archivo\n",
    "\n",
    "os.rename('myfile.txt', 'myfile_renamed.txt')       # renombra un archivo\n",
    "\n",
    "os.rmdir(\"mydir\")           #borra un directorio\n"
   ]
  },
  {
   "cell_type": "code",
   "execution_count": null,
   "metadata": {},
   "outputs": [],
   "source": [
    "import shutil                           # mueve un archivo de una carpta a otra\n",
    "shutil.move('/mnt/filesystem1/myfile.txt', '/mnt/filesystem2/mydir')\n",
    "# Move to a directory, keeping the name intact\n",
    "shutil.move('/home/erik/myfile.txt', '/home/erik/backups/')"
   ]
  },
  {
   "cell_type": "code",
   "execution_count": null,
   "metadata": {},
   "outputs": [],
   "source": [
    "import shutil\n",
    "# Copy a single file\n",
    "shutil.copy('/home/erik/myfile.txt', '/home/erik/myfile_copy.txt')\n",
    "# Copy entire tree of files\n",
    "shutil.copytree('mydir', 'mydir_copy')\n",
    "# Remove a tree of files\n",
    "shutil.rmtree('mydir')"
   ]
  },
  {
   "cell_type": "code",
   "execution_count": 33,
   "metadata": {},
   "outputs": [
    {
     "name": "stdout",
     "output_type": "stream",
     "text": [
      "['Probar', 'Probar2', 'Pruebas.ipynb', 'pruebas.py', 'pruebas2.ipynb', 'Pruebas3.ipynb', 'Pruebas4.ipynb', 'pruebas5.ipynb', 'pruebas6.ipynb', 'text.txt']\n",
      "d:\\Python\\Curso henry\\Python-Prep-main\\Pruebas\n",
      "12013\n",
      "True\n",
      "True\n",
      "d:\\Python\\Curso henry\\Python-Prep-main\\Pruebas\n"
     ]
    }
   ],
   "source": [
    "import os\n",
    "print(os.listdir(\"./\"))                # muestra el contenido del directorio o carpeta\n",
    "print(os.getcwd())                     # muestra la direccion actual del archivo que estamos ejecutando\n",
    "os.chdir(\"d:\\Python\\Curso henry\\Python-Prep-main\\Pruebas\")   # con chdir vamos a la carpeta con la ruta asignada\n",
    "print(os.path.getsize(\"pruebas6.ipynb\"))            # muestra el tamaño dela rchivo especificado\n",
    "print(os.path.isfile(\"pruebas5.ipynb\"))             # responde si el archivo especificado si existe y es un archivo\n",
    "print(os.path.isdir(\"Probar\"))                      # responde si la carpetra especificada si existe y es una carpeta\n",
    "print(os.getcwd())\n",
    "#os.chdir(\"Probar\")                                  # Cambia el directorio de trabajo actual a path, se pasa a otra carpeta dentro de la que estamos\n",
    "#print(os.getcwd())\n",
    "#os.remove(os.getcwd()+'/text.txt')                 # borra un archivo, dandole la ubicacion\n",
    "#os.rename('texto.txt', 'text.txt')                  # renombra un archivo\n",
    "#os.remove('myfile.txt')                             # borra un archivo\n",
    "#os.rmdir(\"Probar2\")                                # borra una carpeta\n"
   ]
  },
  {
   "cell_type": "code",
   "execution_count": null,
   "metadata": {},
   "outputs": [],
   "source": []
  }
 ],
 "metadata": {
  "kernelspec": {
   "display_name": "Python 3",
   "language": "python",
   "name": "python3"
  },
  "language_info": {
   "codemirror_mode": {
    "name": "ipython",
    "version": 3
   },
   "file_extension": ".py",
   "mimetype": "text/x-python",
   "name": "python",
   "nbconvert_exporter": "python",
   "pygments_lexer": "ipython3",
   "version": "3.12.0"
  }
 },
 "nbformat": 4,
 "nbformat_minor": 2
}
