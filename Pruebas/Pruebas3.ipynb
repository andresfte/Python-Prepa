{
 "cells": [
  {
   "cell_type": "code",
   "execution_count": 1,
   "metadata": {},
   "outputs": [
    {
     "name": "stdout",
     "output_type": "stream",
     "text": [
      "0 : p\n",
      "1 : r\n",
      "2 : o\n",
      "3 : g\n",
      "4 : r\n",
      "5 : a\n",
      "6 : m\n",
      "7 : a\n",
      "8 : c\n",
      "9 : i\n",
      "10 : o\n",
      "11 : n\n",
      "{0: 'p', 1: 'r', 2: 'o', 3: 'g', 4: 'r', 5: 'a', 6: 'm', 7: 'a', 8: 'c', 9: 'i', 10: 'o', 11: 'n'}\n",
      "(0, 'p')\n",
      "(1, 'r')\n",
      "(2, 'o')\n",
      "(3, 'g')\n",
      "(4, 'r')\n",
      "(5, 'a')\n",
      "(6, 'm')\n",
      "(7, 'a')\n",
      "(8, 'c')\n",
      "(9, 'i')\n",
      "(10, 'o')\n",
      "(11, 'n')\n",
      "[(0, 'p'), (1, 'r'), (2, 'o'), (3, 'g'), (4, 'r'), (5, 'a'), (6, 'm'), (7, 'a'), (8, 'c'), (9, 'i'), (10, 'o'), (11, 'n')]\n"
     ]
    }
   ],
   "source": [
    "letras = {}\n",
    "for num, letra in enumerate(\"programacion\"):\n",
    "    letras[num] = letra\n",
    "    print(num, \":\", letra)\n",
    "\n",
    "print(letras)\n",
    "\n",
    "lista_letras = []\n",
    "for letra in enumerate(\"programacion\"):\n",
    "    lista_letras.append(letra)\n",
    "    print(letra)\n",
    "\n",
    "print(lista_letras)"
   ]
  },
  {
   "cell_type": "code",
   "execution_count": 29,
   "metadata": {},
   "outputs": [
    {
     "name": "stdout",
     "output_type": "stream",
     "text": [
      "Andres-Felipe-Torres\n",
      "{'Andres': 31225, 'Carlos': 546497, 'Sandra': 646498, 'Julian': 64997}\n",
      "['Andres', 'Carlos', 'Sandra', 'Julian']\n",
      "A_n_d_r_e_s\n",
      "C_a_r_l_o_s\n",
      "S_a_n_d_r_a\n",
      "J_u_l_i_a_n\n",
      "Andres_Carlos_Sandra_Julian\n"
     ]
    }
   ],
   "source": [
    "mi_lista = [\"Andres\", \"Felipe\", \"Torres\"]\n",
    "print(\"-\".join(mi_lista))\n",
    "mi_dicci = {\"Andres\" : 31225, \"Carlos\" : 546497, \"Sandra\" : 646498}\n",
    "mi_dicci[\"Julian\"] = 64997\n",
    "print(mi_dicci)\n",
    "nombres = list(mi_dicci.keys())\n",
    "print(nombres)\n",
    "for nombre in nombres:\n",
    "    print(\"_\".join(nombre))\n",
    "\n",
    "mezcla = \"_\".join(nombres)\n",
    "print(mezcla)"
   ]
  },
  {
   "cell_type": "code",
   "execution_count": 30,
   "metadata": {},
   "outputs": [
    {
     "data": {
      "text/plain": [
       "True"
      ]
     },
     "execution_count": 30,
     "metadata": {},
     "output_type": "execute_result"
    }
   ],
   "source": [
    "from collections.abc import Iterable           #se llama la libreria\n",
    "isinstance(mi_dicci, Iterable)                 #se pregunta si es iterable"
   ]
  },
  {
   "cell_type": "code",
   "execution_count": 57,
   "metadata": {},
   "outputs": [
    {
     "name": "stdout",
     "output_type": "stream",
     "text": [
      "<class 'list_iterator'>\n",
      "nombre actual: nombre1\n",
      "nombre actual: nombre2\n",
      "nombre actual: nombre3\n",
      "nombre actual: nombre4\n",
      "n-->o-->m-->b-->r-->e-->1\n",
      "n-->o-->m-->b-->r-->e-->2\n",
      "n-->o-->m-->b-->r-->e-->3\n",
      "n-->o-->m-->b-->r-->e-->4\n"
     ]
    }
   ],
   "source": [
    "# iterador\n",
    "bloque = [\"nombre1\", \"nombre2\", \"nombre3\", \"nombre4\"]\n",
    "iter_bloque = iter(bloque)\n",
    "print(type(iter_bloque))\n",
    "nombre_i = next(iter_bloque)\n",
    "print(\"nombre actual:\", nombre_i)\n",
    "nombre_i = next(iter_bloque)\n",
    "print(\"nombre actual:\", nombre_i)\n",
    "nombre_i = next(iter_bloque)\n",
    "print(\"nombre actual:\", nombre_i)\n",
    "nombre_i = next(iter_bloque)\n",
    "print(\"nombre actual:\", nombre_i)\n",
    "for letra in bloque:\n",
    "    print(\"-->\".join(letra))\n",
    "\n"
   ]
  },
  {
   "cell_type": "code",
   "execution_count": 88,
   "metadata": {},
   "outputs": [
    {
     "name": "stdout",
     "output_type": "stream",
     "text": [
      "('nombre1', 'Andres')\n",
      "('nombre2', 'Carlos')\n",
      "('nombre3', 'Jose')\n",
      "('nombre4', 'Ruben')\n",
      "{'nombre1': 'Andres', 'nombre2': 'Carlos', 'nombre3': 'Jose', 'nombre4': 'Ruben'}\n",
      "[('nombre1', 'Andres'), ('nombre2', 'Carlos'), ('nombre3', 'Jose'), ('nombre4', 'Ruben')]\n"
     ]
    }
   ],
   "source": [
    "bloque = [\"nombre1\", \"nombre2\", \"nombre3\", \"nombre4\"]\n",
    "nombres = [\"Andres\", \"Carlos\", \"Jose\", \"Ruben\"]\n",
    "for item in zip(bloque, nombres):\n",
    "    print(item)\n",
    "\n",
    "union_d = dict(zip(bloque, nombres))\n",
    "print(union_d)\n",
    "union_l = list(zip(bloque, nombres))\n",
    "print(union_l)\n",
    "\n"
   ]
  },
  {
   "cell_type": "code",
   "execution_count": 126,
   "metadata": {},
   "outputs": [
    {
     "name": "stdout",
     "output_type": "stream",
     "text": [
      "[(1, ('nombre1', 'nombre2'), ('Andres', 'Carlos')), (2, ('nombre3', 'nombre4'), ('Jose', 'Ruben'))]\n",
      "(('Andres', 'Carlos'), ('Jose', 'Ruben'))\n",
      "s_a_n_ _d_i_e_g_o\n"
     ]
    }
   ],
   "source": [
    "bloque = [(\"nombre1\", \"nombre2\"), (\"nombre3\", \"nombre4\")]\n",
    "nombres = [(\"Andres\", \"Carlos\"), (\"Jose\", \"Ruben\")]\n",
    "numero = [1, 2]\n",
    "union_l = list(zip(numero, bloque, nombres))\n",
    "print(union_l)\n",
    "nombres_1 = tuple(nombres)\n",
    "print(nombres_1)\n",
    "prueba = list(\"san diego\")\n",
    "print(\"_\".join(prueba))\n"
   ]
  },
  {
   "cell_type": "code",
   "execution_count": 122,
   "metadata": {},
   "outputs": [
    {
     "name": "stdout",
     "output_type": "stream",
     "text": [
      "[(0, 1, 1), (0, 8, 2), (1, 0, 1), (1, 8, 3), (4, 0, 2), (4, 1, 3)]\n"
     ]
    }
   ],
   "source": [
    "mi_lista = [(x**2, y**3, x + y) for x in range(0, 3) for y in range (0, 3) if x != y]       #nombre = [expresion for elemento in iterable if condicion]\n",
    "print(mi_lista)                                                                              # nombre la lista, expresion matematica, elemento debe estar en la expresion\n",
    "                                                                                             # if condicion que se cumpla en la expresion"
   ]
  },
  {
   "cell_type": "code",
   "execution_count": 124,
   "metadata": {},
   "outputs": [
    {
     "name": "stdout",
     "output_type": "stream",
     "text": [
      "['a', 'a', 'a', 'a', 'a', 'a', 'a', 'a', 'a', 'a', 'a', 'a', 'a', 'a', 'a', 'a']\n",
      "16\n"
     ]
    }
   ],
   "source": [
    "frase = \"En la mañana sale el sol siempre a las 6, pero a vesces sale a las 6:30. la luna sale a las 7\"\n",
    "letra_n = [i for i in frase if i == \"a\"]\n",
    "print(letra_n)\n",
    "print(len(letra_n))"
   ]
  },
  {
   "cell_type": "code",
   "execution_count": 5,
   "metadata": {},
   "outputs": [
    {
     "name": "stdout",
     "output_type": "stream",
     "text": [
      "16\n"
     ]
    }
   ],
   "source": [
    "frase = \"En la mañana sale el sol siempre a las 6, pero a vesces sale a las 6:30. la luna sale a las 7\"\n",
    "\n",
    "def encontrar(letra):\n",
    "    x = 0\n",
    "    for i in frase:\n",
    "        if i == \"a\":\n",
    "            x += 1\n",
    "    return x\n",
    "\n",
    "repet = encontrar(frase)\n",
    "print(repet)"
   ]
  },
  {
   "cell_type": "code",
   "execution_count": 10,
   "metadata": {},
   "outputs": [],
   "source": [
    "lista_inicial = [1,2,5,7,8,10,13,14,15,17,20]\n",
    "lista_faltante = []\n",
    "for i in range(1, 21):\n",
    "    for x in range(len(lista_inicial)):\n",
    "        if lista_inicial[x] <= i:\n",
    "            if lista_inicial[x] == i: \n",
    "                \n",
    "            else\n",
    "                lista_faltante.append(i)"
   ]
  },
  {
   "cell_type": "code",
   "execution_count": 12,
   "metadata": {},
   "outputs": [
    {
     "name": "stdout",
     "output_type": "stream",
     "text": [
      "{1, 2, 5, 7, 8, 10, 13, 14, 15, 17, 20}\n",
      "{1, 2, 3, 4, 5, 6, 7, 8, 9, 10, 11, 12, 13, 14, 15, 16, 17, 18, 19, 20}\n",
      "[3, 4, 6, 9, 11, 12, 16, 18, 19]\n"
     ]
    }
   ],
   "source": [
    "lista_inicial = {1,2,5,7,8,10,13,14,15,17,20}\n",
    "lista_total = set(i for i in range(1, 21))\n",
    "print(lista_inicial)\n",
    "print(lista_total)\n",
    "lista_faltante = list(lista_total.difference(lista_inicial))\n",
    "print(lista_faltante)\n"
   ]
  },
  {
   "cell_type": "code",
   "execution_count": 21,
   "metadata": {},
   "outputs": [
    {
     "name": "stdout",
     "output_type": "stream",
     "text": [
      "Resultado suma =  7\n"
     ]
    }
   ],
   "source": [
    "def sumar(num1, num2):\n",
    "    suma = num1 + num2\n",
    "    return suma\n",
    "\n",
    "num1 = int(input(\"Numero 1 =\"))\n",
    "num2 = int(input(\"Numero 2 =\"))\n",
    "suma = sumar(num1, num2)\n",
    "print(\"Resultado suma = \", suma)\n"
   ]
  },
  {
   "cell_type": "code",
   "execution_count": 26,
   "metadata": {},
   "outputs": [
    {
     "name": "stdout",
     "output_type": "stream",
     "text": [
      "(7.8, 7, 4)\n",
      "resultado division= 7.8\n",
      "resultado division entero= 7\n",
      "resultado division resto = 4\n"
     ]
    }
   ],
   "source": [
    "def division(dividendo, divisor):\n",
    "    if dividendo | divisor != 0:\n",
    "        div_div = dividendo / divisor\n",
    "        div_entero = dividendo // divisor\n",
    "        div_resto = dividendo % divisor\n",
    "        return div_div, div_entero, div_resto\n",
    "    else:\n",
    "        print(\"No se puede realizar la divison algun valor es 0\")\n",
    "        return\n",
    "\n",
    "dividendo = int(input(\"Numero dividendo =\"))\n",
    "divisor = int(input(\"Numero divisor =\"))\n",
    "resultado = tuple(division(dividendo, divisor))\n",
    "div_div, div_entero, div_resto = resultado\n",
    "print(resultado)\n",
    "print(\"resultado division =\", div_div)\n",
    "print(\"resultado division entero =\", div_entero)\n",
    "print(\"resultado division resto =\", div_resto)"
   ]
  },
  {
   "cell_type": "code",
   "execution_count": 15,
   "metadata": {},
   "outputs": [
    {
     "name": "stdout",
     "output_type": "stream",
     "text": [
      "Factorial de 10 es = 3628800\n",
      "Help on function factorial in module __main__:\n",
      "\n",
      "factorial(num)\n",
      "    Calcula el factorial de un numero\n",
      "\n"
     ]
    }
   ],
   "source": [
    "# Recursividad, es llamar un modulo dentro de la ejecucion del mismo\n",
    "def factorial(num):\n",
    "    \"\"\" Calcula el factorial de un numero\"\"\"\n",
    "    if num > 1:\n",
    "        num = num * factorial(num - 1)\n",
    "    return num\n",
    "\n",
    "int_num = int(input(\"Introducir numero =\"))\n",
    "resultado = factorial(int_num)\n",
    "print(\"Factorial de\", int_num,\"es =\", resultado)\n",
    "help(factorial)                     # help da una descripcion de un modulo u otros, o una documentacion, se encierran en triple comillas."
   ]
  },
  {
   "cell_type": "code",
   "execution_count": 32,
   "metadata": {},
   "outputs": [
    {
     "name": "stdout",
     "output_type": "stream",
     "text": [
      "20\n",
      "10\n"
     ]
    }
   ],
   "source": [
    "#las funciones lambda es anonima puede tener la cantidad de argumentos deseada, pero solo 1 expresion de una linea\n",
    "# pasada por valor, no se mofifica la variable original en la funcion\n",
    "# pasada por referencia, se modifica la variable original\n",
    "# Entonces, en Python por defecto los valores simples se pasan por valor (int, float, string, bool, complex)\n",
    "\n",
    "x = 20\n",
    "def funcion(entrada):\n",
    "    x = 30 - entrada\n",
    "    return x\n",
    "                                # x no se modifico en la funcion\n",
    "valor = funcion(x)\n",
    "print(x)\n",
    "print(valor)\n",
    "\n"
   ]
  },
  {
   "cell_type": "code",
   "execution_count": 33,
   "metadata": {},
   "outputs": [
    {
     "name": "stdout",
     "output_type": "stream",
     "text": [
      "30\n",
      "20\n"
     ]
    }
   ],
   "source": [
    "x = 30\n",
    "def funcion2(entra):\n",
    "    entra = 50 - entra\n",
    "    return entra\n",
    "                                # x no se modifico en la funcion\n",
    "valor = funcion2(x)\n",
    "print(x)\n",
    "print(valor)"
   ]
  },
  {
   "cell_type": "code",
   "execution_count": 48,
   "metadata": {},
   "outputs": [
    {
     "name": "stdout",
     "output_type": "stream",
     "text": [
      "x =  [10, 20, 30]\n",
      "y =  [10, 20, 30, 40]\n",
      "valor =  [10, 20, 30, 40]\n",
      "valor1 =  [10, 20, 30, 40]\n"
     ]
    }
   ],
   "source": [
    "x = [10, 20, 30]\n",
    "y = [10, 20, 30]\n",
    "def funcion3(entra_1):\n",
    "    entra_1.append(40)\n",
    "    return entra_1                      # si no se usa return variable, la funcion no devuelve nada\n",
    "\n",
    "valor = funcion3(x.copy())              # copy realiza una copia de la variable y la deja intacta\n",
    "valor1 = funcion3(y)                    # si se usa la variable sin copiar se modifica en la funcion\n",
    "print(\"x = \", x)    \n",
    "print(\"y = \", y)                            \n",
    "print(\"valor = \", valor)\n",
    "print(\"valor1 = \", valor1)"
   ]
  },
  {
   "cell_type": "code",
   "execution_count": 54,
   "metadata": {},
   "outputs": [
    {
     "name": "stdout",
     "output_type": "stream",
     "text": [
      "15\n",
      "35\n"
     ]
    }
   ],
   "source": [
    "# con lambda se crea una funcion de una sola linea anonima o sin nombre, con varios argumentos pero solo una expresion\n",
    "producto = lambda x, y: x * y\n",
    "salida = producto(5, 7)\n",
    "print(producto(5, 3))\n",
    "print(salida)"
   ]
  },
  {
   "cell_type": "code",
   "execution_count": null,
   "metadata": {},
   "outputs": [],
   "source": [
    "x = int(input(\"Introduce numero =\"))\n",
    "lista = [2, 3, 5, 7, 11, 13, 17, 19, 23, 29, 31, 37, 41, 43, 47, 53, 59, 61, 67, 71, 73, 79, 83, 89, 97]\n",
    "def num_primo(num):\n",
    "    if num in lista:\n",
    "        return True\n",
    "    else:\n",
    "        return False\n",
    "\n",
    "primo = num_primo(x)\n",
    "print(f\"El numero {x} es primo?\", primo)"
   ]
  },
  {
   "cell_type": "code",
   "execution_count": 22,
   "metadata": {},
   "outputs": [
    {
     "name": "stdout",
     "output_type": "stream",
     "text": [
      "valor de x = 10\n",
      "El numero 10 es primo? False\n"
     ]
    }
   ],
   "source": [
    "x = input(\"Introduce numero =\")\n",
    "print(\"valor de x =\", x)\n",
    "if x == \"\":\n",
    "    print(\"No se introdujo ningun valor\")\n",
    "    \n",
    "else: \n",
    "    x = int(x)\n",
    "    def num_primo(num):\n",
    "        for n in range(2, num):\n",
    "            if num % n == 0:\n",
    "                return False\n",
    "        \n",
    "        return True\n",
    "\n",
    "if x == \"\":\n",
    "    print(\"Introduce un numero\")\n",
    "else:\n",
    "    salida = num_primo(x)\n",
    "    print(f\"El numero {x} es primo?\", salida)"
   ]
  },
  {
   "cell_type": "code",
   "execution_count": 81,
   "metadata": {},
   "outputs": [
    {
     "name": "stdout",
     "output_type": "stream",
     "text": [
      "[0, 4, 5, 5, 4, 3, 4, 3, 2, 0]\n",
      "<class 'list'>\n"
     ]
    }
   ],
   "source": [
    "lista = [1, 2, 3, 4, 5, 1, 3, 5, 6, 7, 2, 4, 6, 8, 1, 3, 4, 6, 2, 3, 5, 7, 8, 1, 3, 2, 2, 4, 6, 7]\n",
    "num_repet = []\n",
    "for num in range(0, 10):\n",
    "    count_num = lista.count(num)\n",
    "    num_repet.insert(num, count_num)\n",
    "\n",
    "print(num_repet)\n",
    "print(type(lista))"
   ]
  },
  {
   "cell_type": "code",
   "execution_count": 116,
   "metadata": {},
   "outputs": [
    {
     "name": "stdout",
     "output_type": "stream",
     "text": [
      "temperatura a convertir = 400\n",
      "Unidad inicial = ° k\n",
      "Unidad a convertir = ° f\n",
      "400°K es equivalente a 260.33000000000004°F\n"
     ]
    }
   ],
   "source": [
    "temperatura = int(input(\"Temperatura =\"))\n",
    "unidad_inicio = str(input(\"Unidad origen, C, K, F =\"))\n",
    "unidad_conv = str(input(\"Unidad a convertir, C, K, F =\"))\n",
    "print(\"temperatura a convertir =\", temperatura)\n",
    "print(\"Unidad inicial = °\", unidad_inicio)\n",
    "print(\"Unidad a convertir = °\", unidad_conv)\n",
    "\n",
    "def conv_c_k(temp):\n",
    "    temp_k = temp + 273.15\n",
    "    #print(f\"{temp}°C es equivalente a {temp_k}°K\")\n",
    "    return temp_k\n",
    "\n",
    "def conv_c_f(temp):\n",
    "    temp_f = (temp*(9/5)) + 32\n",
    "    #print(f\"{temp}°C es equivalente a {temp_f}°F\")\n",
    "    return temp_f\n",
    "\n",
    "def conv_k_c(temp):\n",
    "    temp_c = temp - 273.15\n",
    "    #print(f\"{temp}°K es equivalente a {temp_c}°C\")\n",
    "    return temp_c\n",
    "\n",
    "def conv_f_c(temp):\n",
    "    temp_c = (5/9)*(temp - 32)\n",
    "    #print(f\"{temp}°F es equivalente a {temp_c}°C\")\n",
    "    return temp_c\n",
    "\n",
    "def conv_k_f(temp):\n",
    "    conversion_1 = conv_k_c(temp)\n",
    "    conversion_2 = conv_c_f(conversion_1)\n",
    "    #print(f\"{temp}°K es equivalente a {conversion_2}°F\")\n",
    "    return conversion_2\n",
    "\n",
    "def conv_f_k(temp):\n",
    "    conversion_1 = conv_f_c(temp)\n",
    "    conversion_2 = conv_c_k(conversion_1)\n",
    "    #print(f\"{temp}°F es equivalente a {conversion_2}°K\")\n",
    "    return conversion_2\n",
    "\n",
    "if unidad_inicio == \"c\" and unidad_conv == \"k\":\n",
    "    temp_k = conv_c_k(temperatura)\n",
    "    print(f\"{temperatura}°C es equivalente a {temp_k}°K\")\n",
    "elif unidad_inicio == \"c\" and unidad_conv == \"f\":\n",
    "    temp_f = conv_c_f(temperatura)\n",
    "    print(f\"{temperatura}°C es equivalente a {temp_f}°F\")\n",
    "elif unidad_inicio == \"k\" and unidad_conv == \"c\":\n",
    "    temp_c = conv_k_c(temperatura)\n",
    "    print(f\"{temperatura}°K es equivalente a {temp_c}°C\")\n",
    "elif unidad_inicio == \"k\" and unidad_conv == \"f\":\n",
    "    conversion_2 = conv_k_f(temperatura)\n",
    "    print(f\"{temperatura}°K es equivalente a {conversion_2}°F\")\n",
    "elif unidad_inicio == \"f\" and unidad_conv == \"c\":\n",
    "    temp_c = conv_f_c(temperatura)\n",
    "    print(f\"{temperatura}°F es equivalente a {temp_c}°C\")\n",
    "elif unidad_inicio == \"f\" and unidad_conv == \"k\":\n",
    "    conversion_2 = conv_f_k(temperatura)\n",
    "    print(f\"{temperatura}°F es equivalente a {conversion_2}°K\")\n",
    "else:\n",
    "    print(\"estan equivocados los valores introducidos\")\n"
   ]
  },
  {
   "cell_type": "code",
   "execution_count": 22,
   "metadata": {},
   "outputs": [
    {
     "name": "stdout",
     "output_type": "stream",
     "text": [
      "3628800\n"
     ]
    }
   ],
   "source": [
    "def factorial(num):\n",
    "    if num > 1:\n",
    "        num = num * factorial(num - 1)\n",
    "\n",
    "    return num\n",
    "\n",
    "print(factorial(10))\n"
   ]
  }
 ],
 "metadata": {
  "kernelspec": {
   "display_name": "Python 3",
   "language": "python",
   "name": "python3"
  },
  "language_info": {
   "codemirror_mode": {
    "name": "ipython",
    "version": 3
   },
   "file_extension": ".py",
   "mimetype": "text/x-python",
   "name": "python",
   "nbconvert_exporter": "python",
   "pygments_lexer": "ipython3",
   "version": "3.11.5"
  },
  "orig_nbformat": 4
 },
 "nbformat": 4,
 "nbformat_minor": 2
}
